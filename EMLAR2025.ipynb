{
 "cells": [
  {
   "cell_type": "markdown",
   "metadata": {},
   "source": [
    "# Distributional Semantic Models in Python\n",
    "\n",
    "## EMLAR 2025\n",
    "\n",
    "### Authors\n",
    "* Raquel G. Alhama, Tilburg University\n",
    "* Andrew Jessop, University of Liverpool\n",
    "* Meaghan Fowlie, Utrecht University"
   ]
  },
  {
   "cell_type": "markdown",
   "metadata": {},
   "source": [
    "##  Jupyter Notebook commands\n",
    "\n",
    "* Run the code in a cell: many options:\n",
    "    * Push the play button (possibly labelled \"Run\")\n",
    "    * CTRL-ENTER\n",
    "    * SHIFT-ENTER\n",
    "    * Cell > Run Cells\n",
    "* Make a new cell: + button\n",
    "* Written code will autosave\n",
    "* Re-start Python (but keep all your code): Kernel > Restart & Clear Output\n",
    "* Autocomplete: TAB > select option\n",
    "\n",
    "## A couple of Python notes\n",
    "\n",
    "* Comments are preceded by a #. Python will ignore them, so you can use them to write notes to yourself/your reader but also to temporarily remove code without deleting it.\n",
    "* Comment/Uncomment several lines at once: highlight > CTRL-/"
   ]
  },
  {
   "cell_type": "code",
   "execution_count": 1,
   "metadata": {},
   "outputs": [],
   "source": [
    "# First we import some libraries that will be useful\n",
    "# You may need to uncomment the following lines the first time you run the code\n",
    "# !conda install --yes  numpy nltk \n",
    "# !conda install --yes  -c conda-forge scikit-learn \n",
    "\n",
    "import re\n",
    "import nltk\n",
    "import numpy as np\n",
    "from sklearn.metrics.pairwise import cosine_similarity "
   ]
  },
  {
   "cell_type": "markdown",
   "metadata": {},
   "source": [
    "## Data Preprocessing\n",
    "\n",
    "\n",
    "You can try this code with any textual data. For this example, we will use some [children's books from Gutenberg project](https://www.gutenberg.org/ebooks/bookshelves/search/?query=children|child|school).\n",
    "\n",
    "Note: if you get this error, it's just Jupyter Notebooks complaining about you asking it to print too much stuff. To fix it, print less (here, `[4000:]` means character number 4000 to the end, so increase the number to start later in the text.)\n",
    "\n",
    "```\n",
    "IOPub data rate exceeded.\n",
    "The notebook server will temporarily stop sending output\n",
    "to the client in order to avoid crashing it.\n",
    "```\n",
    "\n",
    "\n"
   ]
  },
  {
   "cell_type": "code",
   "execution_count": 2,
   "metadata": {},
   "outputs": [],
   "source": [
    "# Load data from book that we have previously downloaded from Gutenberg project\n",
    "raw = open(\"data/pg6328.txt\", 'r').read()\n",
    "\n",
    "# The variable \"raw\" contains now all the text from this file. \n",
    "\n",
    "# Let's have a look at some of the data:\n",
    "# print(raw[4000:])"
   ]
  },
  {
   "cell_type": "code",
   "execution_count": 3,
   "metadata": {},
   "outputs": [
    {
     "name": "stdout",
     "output_type": "stream",
     "text": [
      "[['CONTENTS', 'PREFACE', 'ARABIAN', 'NIGHTS', 'Ali', 'Baba', 'and', 'the', 'Forty', 'Thieves', 'The', 'Story', 'of', 'Aladdin', ';', 'or', 'the', 'Wonderful', 'Lamp', 'Sindbad', 'the', 'Sailor', 'ROBINSON', 'CRUSOE', 'Robinson', 'Crusoe', 'is', 'Shipwrecked', '_Daniel', 'Defoe_', 'Alone', 'on', 'a', 'Desolate', 'Island', '_Daniel', 'Defoe_', 'The', 'Building', 'of', 'the', 'Boat', '_Daniel', 'Defoe_', 'Finds', 'the', 'Print', 'of', 'a', 'Man', \"'\", 's', 'Foot', 'on', 'the', 'Sand', '_Daniel', 'Defoe_', 'Friday', 'Rescued', 'from', 'the', 'Cannibals', '_Daniel', 'Defoe_', 'Robinson', 'Crusoe', 'Rescued', '_Daniel', 'Defoe_', 'GULLIVER', \"'\", 'S', 'TRAVELS', 'Gulliver', 'is', 'Shipwrecked', 'and', 'Swims', 'for', 'His', 'Life', '_Jonathan', 'Swift_', 'Gulliver', 'at', 'the', 'Court', 'of', 'Lilliput', '_Jonathan', 'Swift_', 'Gulliver', 'Captures', 'Fifty', 'of', 'the', 'Enemy', \"'\", 's', 'Ships', '_Jonathan', 'Swift_', 'Gulliver', 'Leaves', 'Lilliput', '_Jonathan', 'Swift_', 'Gulliver', 'in', 'the', 'Land', 'of', 'the', 'Giants', '_Jonathan', 'Swift_', 'Some', 'of', 'Gulliver', \"'\", 's', 'Adventures', '_Jonathan', 'Swift_', 'Gulliver', 'Escapes', 'from', 'the', 'Eagle', '_Jonathan', 'Swift_', 'THE', 'PLAYS', 'OF', 'SHAKESPEARE', 'A', 'Midsummer', '-', 'Night', \"'\", 's', 'Dream', '_E', '.'], ['Nesbit_', 'The', 'Tempest', '_E', '.'], ['Nesbit_', 'As', 'You', 'Like', 'It', '_E', '.'], ['Nesbit_', 'The', 'Merchant', 'of', 'Venice', '_E', '.'], ['Nesbit_', 'PILGRIM', \"'\", 'S', 'PROGRESS', 'Christian', 'Starts', 'on', 'His', 'Journey', '_John', 'Bunyan_', 'The', 'Interpreter', 'Shows', 'Christian', 'Many', 'Excellent', 'Things', '_John', 'Bunyan_', 'Christian', \"'\", 's', 'Fight', 'With', 'the', 'Monster', 'Apollyon', '_John', 'Bunyan_', 'Christian', 'and', 'Hopeful', 'are', 'Captives', 'in', 'Doubting', 'Castle', '_John', 'Bunyan_', 'Christian', 'and', 'Hopeful', 'Arrive', 'at', 'the', 'Coelestial', 'City', '_John', 'Bunyan_', 'IVANHOE', 'AND', 'GUY', 'MANNERING', '_Sir', 'Walter', 'Scott_', 'Ivanhoe', '_Sir', 'Edward', 'Sullivan_', 'Guy', 'Mannering', '_Sir', 'Edward', 'Sullivan_', 'THE', 'STARTLING', 'ADVENTURES', 'OF', 'BARON', 'MUNCHAUSEN', 'An', 'Adventure', 'With', 'a', 'Lion', 'and', 'a', 'Crocodile', '_R', '.'], ['E', '.', 'Raspe_', 'Crossing', 'the', 'Thames', 'Without', 'the', 'Aid', 'of', 'Bridge', ',', 'Boat', 'or', 'Balloon', '_R', '.'], ['E', '.', 'Raspe_', 'Two', 'Strange', 'Adventures', 'in', 'Russia', '_R', '.'], ['E', '.', 'Raspe_', 'Shooting', 'a', 'Stag', 'With', 'Cherrystones', '_R', '.'], ['E', '.', 'Raspe_', 'The', 'Baron', \"'\", 's', 'Wonderful', 'Dog', '_R', '.'], ['E', '.', 'Raspe_', 'ILLUSTRATIONS', '\"', 'AND', 'I', 'WILL', 'WIND', 'THEE', 'IN', 'MY', 'ARMS', '\"', 'A', 'Midsummer', '-', 'Night', \"'\", 's', 'Dream', '_Frontispiece', 'illustration', 'in', 'color', 'from', 'the', 'painting', 'by', 'Arthur', 'Rackham', '_', 'DISGUISED', 'AS', 'A', 'TRAVELLER', 'AND', 'A', 'STRANGER', 'Ali', 'Baba', 'and', 'the', 'Forty', 'Thieves', '_From', 'the', 'painting', 'by', 'Edmund', 'Dulac_', 'HE', 'DESIRED', 'I', 'WOULD', 'STAND', 'LIKE', 'A', 'COLOSSUS', 'Gulliver', 'at', 'the', 'Court', 'of', 'Lilliput', '_From', 'the', 'painting', 'by', 'Arthur', 'Rackham', '_', 'THEY', 'WERE', 'VERY', 'TIRED', 'WHEN', 'AT', 'LAST', 'THEY', 'CAME', 'TO', 'THE', 'FOREST', 'OF', 'ARDEN', 'As', 'You', 'Like', 'It', '_From', 'the', 'painting', 'by', 'Charles', 'Folkard', '_', 'CHRISTIAN', 'NIMBLY', 'STRETCHED', 'OUT', 'HIS', 'HAND', 'FOR', 'HIS', 'SWORD', 'Christian', \"'\", 's', 'Fight', 'with', 'the', 'Monster', 'Apollyon', '_From', 'the', 'etching', 'by', 'William', 'Strang', '_', 'PREFACE', 'Consciously', 'or', 'unconsciously', 'we', 'are', 'influenced', 'by', 'the', 'characters', 'we', 'admire', '.'], ['A', 'book', 'that', 'exerts', 'a', 'deep', 'as', 'well', 'as', 'a', 'wide', 'influence', 'must', 'produce', 'changes', 'in', 'the', 'reader', \"'\", 's', 'way', 'of', 'thinking', ',', 'and', 'excite', 'him', 'to', 'activity', ';', 'the', 'world', 'for', 'him', 'can', 'never', 'be', 'quite', 'the', 'same', 'that', 'it', 'was', 'before', '.'], ['Such', 'books', 'have', 'an', 'important', 'part', 'in', 'moulding', 'the', 'character', 'of', 'a', 'people', '.'], ['It', 'is', 'because', 'the', 'books', 'represented', 'in', 'this', 'volume', 'have', 'been', 'doing', 'just', 'that', 'for', 'many', 'years', 'that', 'they', 'have', 'become', 'so', 'prized', '.'], ['In', 'the', 'characters', 'of', 'Crusoe', ',', 'Gulliver', 'and', 'Christian', ',', 'to', 'mention', 'only', 'three', ',', 'English', '-', 'speaking', 'people', 'recognize', 'pictures', 'of', 'the', 'independent', ',', 'self', '-', 'reliant', 'men', ',', 'often', 'self', '-', 'educated', '(', 'at', 'least', 'in', 'many', 'important', 'particulars', '),', 'adventurous', 'and', 'daring', 'by', 'nature', ',', 'dependent', 'upon', 'themselves', 'and', 'the', 'use', 'of', 'their', 'faculties', 'for', 'happiness', ',', 'who', 'made', 'England', 'great', 'among', 'nations', ',', 'and', 'wrote', 'the', 'Constitution', 'of', 'the', 'United', 'States', '.'], ['With', 'the', 'passage', 'of', 'time', 'the', 'books', 'have', 'lost', 'nothing', 'of', 'the', 'charm', 'and', 'fascination', 'which', 'they', 'have', 'ever', 'possessed', 'for', 'young', 'and', 'old', '.'], ['\"', 'Was', 'there', 'ever', 'yet', 'anything', 'written', 'by', 'mere', 'man', ',\"', 'said', 'Dr', '.', 'Samuel', 'Johnson', ',', '\"', 'that', 'was', 'wished', 'longer', 'by', 'its', 'readers', ',', 'excepting', 'Robinson', 'Crusoe', ',', 'Pilgrim', \"'\", 's', 'Progress', ',', 'and', 'Don', 'Quixote', '?\"'], ['At', 'this', 'time', ',', 'when', 'the', 'subject', 'of', 'vocational', 'training', 'is', 'receiving', 'so', 'much', 'attention', ',', 'and', 'public', 'school', 'instruction', 'is', 'being', 'criticized', 'because', ',', 'its', 'critics', 'say', ',', 'it', 'does', 'not', 'prepare', 'boys', 'and', 'girls', 'to', 'meet', 'the', 'demands', 'which', 'life', 'makes', 'upon', 'them', ',', 'it', 'is', 'interesting', 'to', 'read', 'what', 'was', 'said', 'almost', 'a', 'hundred', 'years', 'ago', 'by', 'a', 'man', 'whose', 'influence', 'on', 'education', 'has', 'been', 'both', 'deep', 'and', 'lasting', 'in', 'character', '.'], ['They', 'have', 'just', 'been', 'celebrating', 'in', 'France', 'the', 'centenary', 'of', 'Jean', 'Jacques', 'Rousseau', '.'], ['In', 'the', 'early', 'chapters', 'of', '\"', 'Emile', '\"', 'we', 'read', ':', '\"', 'Since', 'we', 'must', 'have', 'books', ',', 'there', 'is', 'one', 'which', ',', 'to', 'my', 'mind', ',', 'furnishes', 'the', 'finest', 'treatise', 'on', 'Education', 'according', 'to', 'nature', '.'], ['My', 'Emile', 'shall', 'read', 'this', 'book', 'before', 'any', 'other', '.'], ['It', 'shall', 'for', 'a', 'long', 'time', 'be', 'his', 'entire', 'library', '.'], ['It', 'shall', 'be', 'a', 'test', 'for', 'all', 'we', 'meet', 'during', 'our', 'progress', 'toward', 'a', 'ripened', 'judgment', ',', 'and', 'so', 'long', 'as', 'our', 'taste', 'is', 'unspoiled', 'we', 'shall', 'enjoy', 'reading', 'it', '.'], ['What', 'wonderful', 'book', 'is', 'this', '?'], ['Aristotle', '?'], ['Pliny', '?'], ['Buffon', '?'], ['No', ';', 'it', 'is', 'Robinson', 'Crusoe', '.\"'], ['There', 'is', 'no', 'more', 'useful', 'talent', 'than', 'the', 'ability', 'to', 'think', 'and', 'speak', '(', 'or', 'write', ')', 'clearly', 'and', 'simply', ',', 'no', 'matter', 'what', 'our', 'vocation', 'in', 'life', '.'], ['None', 'know', 'better', 'how', 'difficult', 'it', 'is', 'to', 'find', 'writers', 'with', 'a', 'good', 'narrative', 'style', 'than', 'those', 'editors', 'whose', 'training', 'and', 'experience', 'have', 'made', 'them', 'realize', 'its', 'value', 'and', 'importance', '.'], ['If', 'we', 'examine', 'the', 'experience', 'of', 'those', 'who', ',', 'in', 'comparatively', 'recent', 'days', ',', 'have', 'stirred', 'men', 'with', 'the', 'force', 'and', 'directness', 'of', 'their', 'simple', 'speech', ',', 'as', 'Lincoln', ',', 'for', 'example', ',', 'we', 'find', 'that', 'as', 'boys', 'they', 'were', 'great', 'readers', 'of', 'the', 'Bible', ',', 'and', 'Robinson', 'Crusoe', ',', 'Gulliver', \"'\", 's', 'Travels', ',', 'Shakespeare', ',', 'Bunyan', ',', 'and', 'Scott', '.'], ['As', 'examples', 'of', 'English', 'these', 'books', 'stand', 'preeminent', '.'], ['Lord', 'Brougham', 'relates', 'that', 'one', 'of', 'his', 'friends', ',', 'a', 'professor', 'in', 'a', 'university', ',', 'consulted', 'one', 'of', 'the', 'ablest', 'historians', 'of', 'his', 'time', 'as', 'to', 'what', 'would', 'be', 'the', 'best', 'discipline', 'for', 'acquiring', 'a', 'good', 'narrative', 'style', ',', 'as', 'a', 'prelude', 'to', 'writing', 'a', 'book', 'of', 'travels', 'through', 'Asia', '.'], ['The', 'advice', 'given', 'him', 'was', 'to', 'read', 'Robinson', 'Crusoe', 'carefully', '.'], ['When', 'the', 'professor', 'expressed', 'astonishment', ',', 'supposing', 'it', 'to', 'be', 'a', 'jest', ',', 'the', 'historian', 'said', 'he', 'was', 'quite', 'serious', ',', 'but', 'that', 'if', 'Robinson', 'Crusoe', 'would', 'not', 'help', 'him', ',', 'for', 'any', 'reason', ',', 'he', 'recommended', 'Gulliver', \"'\", 's', 'Travels', '.'], ['The', 'late', 'Donald', 'G', '.', 'Mitchell', 'once', 'said', ':', '\"', 'If', 'you', 'should', 'ever', 'have', 'any', 'story', 'of', 'your', 'own', 'to', 'tell', ',', 'and', 'want', 'to', 'tell', 'it', 'well', ',', 'I', 'advise', 'you', 'to', 'take', 'Robinson', 'Crusoe', 'for', 'a', 'model', '!\"'], ['Parents', 'and', 'teachers', 'who', 'do', 'not', 'read', 'aloud', 'to', 'young', 'children', ',', 'or', 'who', 'do', 'not', 'practise', 'telling', 'stories', 'to', 'children', ',', 'probably', 'do', 'not', 'realize', 'what', 'simple', 'but', 'extraordinarily', 'valuable', 'opportunities', 'for', 'self', '-', 'education', 'they', 'are', 'ignoring', ',', 'to', 'say', 'nothing', 'of', 'the', 'help', 'they', 'can', 'be', 'to', 'children', '.'], ['In', 'order', 'to', 'be', 'successful', 'we', 'have', 'to', 'try', 'and', 'put', 'ourselves', 'in', 'the', 'child', \"'\", 's', 'place', '.'], ['The', 'average', 'reader', 'does', 'not', 'concentrate', 'sufficiently', 'to', 'get', 'the', 'thought', 'clearly', 'from', 'the', 'text', ',', 'and', 'does', 'not', 'imagine', 'himself', 'to', 'be', 'actually', 'in', 'the', 'midst', 'of', 'the', 'scene', 'he', 'is', 'describing', '.'], ['The', 'consequence', 'is', 'that', 'his', 'voice', 'and', 'actions', 'are', 'not', ',', 'except', 'perhaps', 'in', 'a', 'slight', 'degree', ',', 'affected', 'by', 'the', 'emotions', 'he', 'is', 'supposed', 'to', 'be', 'experiencing', '.'], ['Dramatic', 'rendering', 'of', 'dramatic', 'passages', 'is', 'worth', 'striving', 'for', ',', 'and', 'should', 'be', 'encouraged', 'on', 'the', 'part', 'of', 'children', '.'], ['The', 'story', '-', 'teller', 'who', 'roars', 'with', 'the', 'lion', 'and', 'bleats', 'with', 'the', 'lamb', 'is', 'sure', 'to', 'be', 'rewarded', 'with', 'shouts', 'of', 'enthusiastic', 'delight', 'from', 'the', 'audience', '.'], ['THE', 'ARABIAN', 'NIGHTS', '_All', 'nations', 'have', 'their', 'fairy', 'tales', ',', 'but', 'India', 'seems', 'to', 'have', 'been', 'the', 'country', 'from', 'which', 'they', 'all', 'started', ',', 'carried', 'on', 'their', 'travels', 'by', 'the', 'professional', 'story', '-', 'tellers', 'who', 'kept', 'the', 'tales', 'alive', 'throughout', 'Asia', '.'], ['In', 'Bagdad', 'and', 'Cairo', 'to', '-', 'day', ',', 'that', 'cafe', 'never', 'lacks', 'customers', 'where', 'the', 'blind', 'storyteller', 'relates', 'to', 'the', 'spell', '-', 'bound', 'Arabs', 'some', 'chapter', 'from', 'the', 'immortal', 'Arabian', 'Nights', ',', 'the', 'King', 'of', 'all', 'Wonder', 'Books', '.'], ['No', 'one', 'knows', 'where', 'the', 'tales', 'were', 'written', ',', 'except', 'that', 'they', 'came', 'out', 'of', 'the', 'Far', 'East', ',', 'India', ',', 'Arabia', 'and', 'Persia', '.'], ['Haroun', 'Al', 'Raschid', ',', 'who', 'was', 'called', 'The', 'Just', ',', 'was', 'a', 'real', 'Eastern', 'monarch', 'who', 'lived', 'in', 'Bagdad', 'over', 'eleven', 'hundred', 'years', 'ago', ',', 'about', 'the', 'same', 'time', 'that', 'Charlemagne', 'was', 'King', 'of', 'France', '.'], ['We', 'can', 'believe', 'that', 'the', 'tales', 'are', 'very', 'old', ',', 'but', 'the', 'most', 'we', 'know', 'is', 'that', 'they', 'were', 'translated', 'from', 'Arabic', 'into', 'French', 'in', '1704', '-', '17', 'by', 'a', 'Frenchman', 'named', 'Galland', ',', 'and', 'that', 'the', 'manuscript', 'of', 'his', 'translation', 'is', 'preserved', 'in', 'the', 'French', 'National', 'Library', '.'], ['American', 'boys', 'first', 'had', 'the', 'chance', 'to', 'read', 'the', 'notes', 'in', 'English', 'about', 'the', 'time', 'President', 'Monroe', 'was', 'elected', '.', '_', 'ALI', 'BABA', 'AND', 'THE', 'FORTY', 'THIEVES', 'There', 'once', 'lived', 'in', 'a', 'town', 'of', 'Persia', 'two', 'brothers', ',', 'one', 'named', 'Cassim', ',', 'and', 'the', 'other', 'Ali', 'Baba', '.'], ['Their', 'father', 'divided', 'a', 'small', 'inheritance', 'equally', 'between', 'them', '.'], ['Cassim', 'married', 'a', 'very', 'rich', 'wife', ',', 'and', 'became', 'a', 'wealthy', 'merchant', '.'], ['Ali', 'Baba', 'married', 'a', 'woman', 'as', 'poor', 'as', 'himself', ',', 'and', 'lived', 'by', 'cutting', 'wood', ',', 'and', 'bringing', 'it', 'upon', 'three', 'asses', 'into', 'the', 'town', 'to', 'sell', '.'], ['One', 'day', ',', 'when', 'Ali', 'Baba', 'was', 'in', 'the', 'forest', ',', 'and', 'had', 'just', 'cut', 'wood', 'enough', 'to', 'load', 'his', 'asses', ',', 'he', 'saw', 'at', 'a', 'distance', 'a', 'great', 'cloud', 'of', 'dust', ',', 'which', 'seemed', 'to', 'approach', 'him', '.'], ['He', 'observed', 'it', 'with', 'attention', ',', 'and', 'distinguished', 'soon', 'after', 'a', 'body', 'of', 'horsemen', ',', 'whom', 'he', 'suspected', 'might', 'be', 'robbers', '.'], ['He', 'determined', 'to', 'leave', 'his', 'asses', 'to', 'save', 'himself', '.'], ['He', 'climbed', 'up', 'a', 'large', 'tree', ',', 'planted', 'on', 'a', 'high', 'rock', ',', 'whose', 'branches', 'were', 'thick', 'enough', 'to', 'conceal', 'him', ',', 'and', 'yet', 'enabled', 'him', 'to', 'see', 'all', 'that', 'passed', 'without', 'being', 'discovered', '.'], ['The', 'troop', ',', 'who', 'were', 'to', 'the', 'number', 'of', 'forty', ',', 'all', 'well', 'mounted', 'and', 'armed', ',', 'came', 'to', 'the', 'foot', 'of', 'the', 'rock', 'on', 'which', 'the', 'tree', 'stood', ',', 'and', 'there', 'dismounted', '.'], ['Every', 'man', 'unbridled', 'his', 'horse', ',', 'tied', 'him', 'to', 'some', 'shrub', ',', 'and', 'hung', 'about', 'his', 'neck', 'a', 'bag', 'of', 'corn', 'which', 'they', 'brought', 'behind', 'them', '.'], ['Then', 'each', 'of', 'them', 'took', 'off', 'his', 'saddle', '-', 'bag', ',', 'which', 'seemed', 'to', 'Ali', 'Baba', 'to', 'be', 'full', 'of', 'gold', 'and', 'silver', 'from', 'its', 'weight', '.'], ['One', ',', 'whom', 'he', 'took', 'to', 'be', 'their', 'captain', ',', 'came', 'under', 'the', 'tree', 'in', 'which', 'Ali', 'Baba', 'was', 'concealed', ';', 'and', ',', 'making', 'his', 'way', 'through', 'some', 'shrubs', ',', 'pronounced', 'these', 'words', '--\"', 'Open', ',', 'Sesame', '!\"'], ['As', 'soon', 'as', 'the', 'captain', 'of', 'the', 'robbers', 'had', 'thus', 'spoken', ',', 'a', 'door', 'opened', 'in', 'the', 'rock', ';', 'and', 'after', 'he', 'had', 'made', 'all', 'his', 'troop', 'enter', 'before', 'him', ',', 'he', 'followed', 'them', ',', 'when', 'the', 'door', 'shut', 'again', 'of', 'itself', '.'], ['The', 'robbers', 'stayed', 'some', 'time', 'within', 'the', 'rock', ',', 'during', 'which', 'Ali', 'Baba', ',', 'fearful', 'of', 'being', 'caught', ',', 'remained', 'in', 'the', 'tree', '.'], ['At', 'last', 'the', 'door', 'opened', 'again', ',', 'and', 'as', 'the', 'captain', 'went', 'in', 'last', ',', 'so', 'he', 'came', 'out', 'first', ',', 'and', 'stood', 'to', 'see', 'them', 'all', 'pass', 'by', 'him', ';', 'when', 'Ali', 'Baba', 'heard', 'him', 'make', 'the', 'door', 'close', 'by', 'pronouncing', 'these', 'words', ',', '\"', 'Shut', ',', 'Sesame', '!\"'], ['Every', 'man', 'at', 'once', 'went', 'and', 'bridled', 'his', 'horse', ',', 'fastened', 'his', 'wallet', ',', 'and', 'mounted', 'again', '.'], ['When', 'the', 'captain', 'saw', 'them', 'all', 'ready', ',', 'he', 'put', 'himself', 'at', 'their', 'head', ',', 'and', 'they', 'returned', 'the', 'way', 'they', 'had', 'come', '.'], ['Ali', 'Baba', 'followed', 'them', 'with', 'his', 'eyes', 'as', 'far', 'as', 'he', 'could', 'see', 'them', ',', 'and', 'afterward', 'stayed', 'a', 'considerable', 'time', 'before', 'he', 'descended', '.'], ['Remembering', 'the', 'words', 'the', 'captain', 'of', 'the', 'robbers', 'used', 'to', 'cause', 'the', 'door', 'to', 'open', 'and', 'shut', ',', 'he', 'had', 'the', 'curiosity', 'to', 'try', 'if', 'his', 'pronouncing', 'them', 'would', 'have', 'the', 'same', 'effect', '.'], ['Accordingly', ',', 'he', 'went', 'among', 'the', 'shrubs', ',', 'and', 'perceiving', 'the', 'door', 'concealed', 'behind', 'them', ',', 'stood', 'before', 'it', 'and', 'said', ',', '\"', 'Open', ',', 'Sesame', '!\"'], ['The', 'door', 'instantly', 'flew', 'wide', 'open', '.'], ['Ali', 'Baba', ',', 'who', 'expected', 'a', 'dark', ',', 'dismal', 'cavern', ',', 'was', 'surprised', 'to', 'see', 'a', 'well', '-', 'lighted', 'and', 'spacious', 'chamber', ',', 'which', 'received', 'the', 'light', 'from', 'an', 'opening', 'at', 'the', 'top', 'of', 'the', 'rock', ',', 'and', 'in', 'which', 'were', 'all', 'sorts', 'of', 'provisions', ',', 'rich', 'bales', 'of', 'silk', ',', 'stuff', ',', 'brocade', ',', 'and', 'valuable', 'carpeting', ',', 'piled', 'upon', 'one', 'another', ',', 'gold', 'and', 'silver', 'ingots', 'in', 'great', 'heaps', ',', 'and', 'money', 'in', 'bags', '.'], ['The', 'sight', 'of', 'all', 'these', 'riches', 'made', 'him', 'suppose', 'that', 'this', 'cave', 'must', 'have', 'been', 'occupied', 'for', 'ages', 'by', 'robbers', ',', 'who', 'had', 'succeeded', 'one', 'another', '.'], ['Ali', 'Baba', 'went', 'boldly', 'into', 'the', 'cave', ',', 'and', 'collected', 'as', 'much', 'of', 'the', 'gold', 'coin', ',', 'which', 'was', 'in', 'bags', ',', 'as', 'he', 'thought', 'his', 'three', 'asses', 'could', 'carry', '.'], ['When', 'he', 'had', 'loaded', 'them', 'with', 'the', 'bags', ',', 'he', 'laid', 'wood', 'over', 'them', 'in', 'such', 'a', 'manner', 'that', 'they', 'could', 'not', 'be', 'seen', '.'], ['When', 'he', 'had', 'passed', 'in', 'and', 'out', 'as', 'often', 'as', 'he', 'wished', ',', 'he', 'stood', 'before', 'the', 'door', ',', 'and', 'pronouncing', 'the', 'words', ',', '\"', 'Shut', ',', 'Sesame', '!\"'], ['the', 'door', 'closed', 'of', 'itself', '.'], ['He', 'then', 'made', 'the', 'best', 'of', 'his', 'way', 'to', 'town', '.'], ['When', 'Ali', 'Baba', 'got', 'home', ',', 'he', 'drove', 'his', 'asses', 'into', 'a', 'little', 'yard', ',', 'shut', 'the', 'gates', 'very', 'carefully', ',', 'threw', 'off', 'the', 'wood', 'that', 'covered', 'the', 'panniers', ',', 'carried', 'the', 'bags', 'into', 'the', 'house', ',', 'and', 'ranged', 'them', 'in', 'order', 'before', 'his', 'wife', '.'], ['He', 'then', 'emptied', 'the', 'bags', ',', 'which', 'raised', 'such', 'a', 'great', 'heap', 'of', 'gold', 'as', 'dazzled', 'his', 'wife', \"'\", 's', 'eyes', ',', 'and', 'then', 'he', 'told', 'her', 'the', 'whole', 'adventure', 'from', 'beginning', 'to', 'end', ',', 'and', ',', 'above', 'all', ',', 'recommended', 'her', 'to', 'keep', 'it', 'secret', '.'], ['The', 'wife', 'rejoiced', 'greatly', 'at', 'their', 'good', '-', 'fortune', ',', 'and', 'would', 'count', 'all', 'the', 'gold', 'piece', 'by', 'piece', '.'], ['\"', 'Wife', ',\"', 'replied', 'Ali', 'Baba', ',', '\"', 'you', 'do', 'not', 'know', 'what', 'you', 'undertake', ',', 'when', 'you', 'pretend', 'to', 'count', 'the', 'money', ';', 'you', 'will', 'never', 'have', 'done', '.'], ['I', 'will', 'dig', 'a', 'hole', 'and', 'bury', 'it', '.'], ['There', 'is', 'no', 'time', 'to', 'be', 'lost', '.\"'], ['\"', 'You', 'are', 'in', 'the', 'right', ',', 'husband', ',\"', 'replied', 'she', ';', '\"', 'but', 'let', 'us', 'know', ',', 'as', 'nigh', 'as', 'possible', ',', 'how', 'much', 'we', 'have', '.'], ['I', 'will', 'borrow', 'a', 'small', 'measure', ',', 'and', 'measure', 'it', 'while', 'you', 'dig', 'the', 'hole', '.\"'], ['Away', 'the', 'wife', 'ran', 'to', 'her', 'brother', '-', 'in', '-', 'law', 'Cassim', ',', 'who', 'lived', 'just', 'by', ',', 'and', ',', 'addressing', 'herself', 'to', 'his', 'wife', ',', 'desired', 'her', 'to', 'lend', 'her', 'a', 'measure', 'for', 'a', 'little', 'while', '.'], ['Her', 'sister', '-', 'in', '-', 'law', 'asked', 'her', 'whether', 'she', 'would', 'have', 'a', 'great', 'or', 'a', 'small', 'one', '.'], ['The', 'other', 'asked', 'for', 'a', 'small', 'one', '.'], ['She', 'bade', 'her', 'stay', 'a', 'little', ',', 'and', 'she', 'would', 'readily', 'fetch', 'one', '.'], ['The', 'sister', '-', 'in', '-', 'law', 'did', 'so', ',', 'but', 'as', 'she', 'knew', 'Ali', 'Baba', \"'\", 's', 'poverty', ',', 'she', 'was', 'curious', 'to', 'know', 'what', 'sort', 'of', 'grain', 'his', 'wife', 'wanted', 'to', 'measure', ',', 'and', ',', 'artfully', 'putting', 'some', 'suet', 'at', 'the', 'bottom', 'of', 'the', 'measure', ',', 'brought', 'it', 'to', 'her', ',', 'with', 'the', 'excuse', 'that', 'she', 'was', 'sorry', 'that', 'she', 'had', 'made', 'her', 'stay', 'so', 'long', ',', 'but', 'that', 'she', 'could', 'not', 'find', 'it', 'sooner', '.'], ['Ali', 'Baba', \"'\", 's', 'wife', 'went', 'home', ',', 'set', 'the', 'measure', 'upon', 'the', 'heap', 'of', 'gold', ',', 'filled', 'it', ',', 'and', 'emptied', 'it', 'often', 'upon', 'the', 'sofa', ',', 'till', 'she', 'had', 'done', ',', 'when', 'she', 'was', 'very', 'well', 'satisfied', 'to', 'find', 'the', 'number', 'of', 'measures', 'amounted', 'to', 'so', 'many', 'as', 'they', 'did', ',', 'and', 'went', 'to', 'tell', 'her', 'husband', ',', 'who', 'had', 'almost', 'finished', 'digging', 'the', 'hole', '.'], ['While', 'Ali', 'Baba', 'was', 'burying', 'the', 'gold', ',', 'his', 'wife', ',', 'to', 'show', 'her', 'exactness', 'and', 'diligence', 'to', 'her', 'sister', '-', 'in', '-', 'law', ',', 'carried', 'the', 'measure', 'back', 'again', ',', 'but', 'without', 'taking', 'notice', 'that', 'a', 'piece', 'of', 'gold', 'had', 'stuck', 'to', 'the', 'bottom', '.'], ['\"', 'Sister', ',\"', 'said', 'she', ',', 'giving', 'it', 'to', 'her', 'again', ',', '\"', 'you', 'see', 'that', 'I', 'have', 'not', 'kept', 'your', 'measure', 'long', '.'], ['I', 'am', 'obliged', 'to', 'you', 'for', 'it', ',', 'and', 'return', 'it', 'with', 'thanks', '.\"'], ['As', 'soon', 'as', 'Ali', 'Baba', \"'\", 's', 'wife', 'was', 'gone', ',', 'Cassim', \"'\", 's', 'wife', 'looked', 'at', 'the', 'bottom', 'of', 'the', 'measure', ',', 'and', 'was', 'in', 'inexpressible', 'surprise', 'to', 'find', 'a', 'piece', 'of', 'gold', 'sticking', 'to', 'it', '.'], ['Envy', 'immediately', 'possessed', 'her', 'breast', '.'], ['\"', 'What', '!\"'], ['said', 'she', ',', '\"', 'has', 'Ali', 'Baba', 'gold', 'so', 'plentiful', 'as', 'to', 'measure', 'it', '?'], ['Whence', 'has', 'he', 'all', 'this', 'wealth', '?\"'], ['Cassim', ',', 'her', 'husband', ',', 'was', 'at', 'his', 'counting', '-', 'house', '.'], ['When', 'he', 'came', 'home', 'his', 'wife', 'said', 'to', 'him', ',', '\"', 'Cassim', ',', 'I', 'know', 'you', 'think', 'yourself', 'rich', ',', 'but', 'Ali', 'Baba', 'is', 'infinitely', 'richer', 'than', 'you', '.'], ['He', 'does', 'not', 'count', 'his', 'money', ',', 'but', 'measures', 'it', '.\"'], ['Cassim', 'desired', 'her', 'to', 'explain', 'the', 'riddle', ',', 'which', 'she', 'did', 'by', 'telling', 'him', 'the', 'stratagem', 'she', 'had', 'used', 'to', 'make', 'the', 'discovery', ',', 'and', 'showed', 'him', 'the', 'piece', 'of', 'money', ',', 'which', 'was', 'so', 'old', 'that', 'they', 'could', 'not', 'tell', 'in', 'what', 'prince', \"'\", 's', 'reign', 'it', 'was', 'coined', '.']]\n"
     ]
    }
   ],
   "source": [
    "#At the moment, what raw contains is a string of characters. But we are interested in words rather than characters.\n",
    "\n",
    "# How can we separate this text into sentences?\n",
    "\n",
    "# This process is called \"tokenization\". \n",
    "\n",
    "# First we need to download a tokenizer from NLTK (uncomment and run just once):\n",
    "# nltk.download('punkt')\n",
    "\n"
   ]
  },
  {
   "cell_type": "code",
   "execution_count": 24,
   "metadata": {},
   "outputs": [
    {
     "name": "stdout",
     "output_type": "stream",
     "text": [
      "A few lines:\n",
      "line 1000 \n",
      "line 1001 While Ali Baba took these measures, the captain of the forty\n",
      "line 1002 robbers returned to the forest with inconceivable mortification.\n",
      "line 1003 He did not stay long: the loneliness of the gloomy cavern became\n",
      "line 1004 frightful to him. He determined, however, to avenge the fate of\n",
      "line 1005 his companions, and to accomplish the death of Ali Baba. For this\n",
      "line 1006 purpose he returned to the town and took a lodging in a khan, and\n",
      "line 1007 disguised himself as a merchant in silks. Under this assumed\n",
      "line 1008 character, he gradually conveyed a great many sorts of rich stuffs\n",
      "line 1009 and fine linen to his lodging from the cavern, but with all the\n"
     ]
    }
   ],
   "source": [
    "# Now let's tokenize each sentence.\n",
    "\n",
    "# In some data, each sentence has its own line, so you can split it with the split method as follows:\n",
    "lines = raw.split(\"\\n\")\n",
    "\n",
    "# This isn't an appropriate split for this data, as we can see if we print out some:\n",
    "print(\"A few lines:\")\n",
    "for i in range(1000, 1010):\n",
    "    print(\"line\", i, lines[i])\n",
    "\n"
   ]
  },
  {
   "cell_type": "code",
   "execution_count": 23,
   "metadata": {},
   "outputs": [
    {
     "name": "stdout",
     "output_type": "stream",
     "text": [
      "A few sentences:\n",
      "\n",
      "sentence 1000 What has he done to obtain from Thee a lot so agreeable?\n",
      "\n",
      "sentence 1001 And what\n",
      "have I done to deserve one so wretched?\"\n",
      "\n",
      "sentence 1002 While the porter was thus indulging his melancholy, a servant came\n",
      "out of the house, and taking him by the arm, bade him follow him,\n",
      "for Sindbad, his master, wanted to speak to him.\n",
      "\n",
      "sentence 1003 The servants\n",
      "brought him into a great hall, where a number of people sat round\n",
      "a table, covered with all sorts of savory dishes.\n",
      "\n",
      "sentence 1004 At the upper end\n",
      "sat a comely, venerable gentleman, with a long white beard, and\n",
      "behind him stood a number of officers and domestics, all ready to\n",
      "attend his pleasure.\n",
      "\n",
      "sentence 1005 This person was Sindbad.\n",
      "\n",
      "sentence 1006 Hindbad, whose fear\n",
      "was increased at the sight of so many people, and of a banquet so\n",
      "sumptuous, saluted the company trembling.\n",
      "\n",
      "sentence 1007 Sindbad bade him draw\n",
      "near, and seating him at his right hand, served him himself, and\n",
      "gave him excellent wine, of which there was abundance upon the\n",
      "sideboard.\n",
      "\n",
      "sentence 1008 Now, Sindbad had heard the porter complain through the window, and\n",
      "this it was that induced him to have him brought in.\n",
      "\n",
      "sentence 1009 When the\n",
      "repast was over, Sindbad addressed his conversation to Hindbad,\n",
      "and inquired his name and employment, and said: \"I wish to hear\n",
      "from your own mouth what it was you lately said in the street.\"\n",
      "A few tokenized sentences:\n",
      "\n",
      "sentence 1000 ['You', 'think', ',', 'no', 'doubt', ',', 'that', 'I', 'have', 'acquired', 'without', 'labor', 'and', 'trouble', 'the', 'ease', 'and', 'indulgence', 'which', 'I', 'now', 'enjoy', '.']\n",
      "\n",
      "sentence 1001 ['But', 'do', 'not', 'mistake', ';', 'I', 'did', 'not', 'attain', 'to', 'this', 'happy', 'condition', 'without', 'enduring', 'for', 'several', 'years', 'more', 'trouble', 'of', 'body', 'and', 'mind', 'than', 'can', 'well', 'be', 'imagined', '.']\n",
      "\n",
      "sentence 1002 ['Yes', ',', 'gentlemen', ',\"', 'he', 'added', ',', 'speaking', 'to', 'the', 'whole', 'company', ',', '\"', 'I', 'assure', 'you', 'that', 'my', 'sufferings', 'have', 'been', 'of', 'a', 'nature', 'so', 'extraordinary', 'as', 'would', 'deprive', 'the', 'greatest', 'miser', 'of', 'his', 'love', 'of', 'riches', ';', 'and', 'as', 'an', 'opportunity', 'now', 'offers', ',', 'I', 'will', ',', 'with', 'your', 'leave', ',', 'relate', 'the', 'dangers', 'I', 'have', 'encountered', ',', 'which', 'I', 'think', 'will', 'not', 'be', 'uninteresting', 'to', 'you', '.\"']\n",
      "\n",
      "sentence 1003 ['THE', 'FIRST', 'VOYAGE', 'My', 'father', 'was', 'a', 'rich', 'merchant', '.']\n",
      "\n",
      "sentence 1004 ['He', 'bequeathed', 'me', 'a', 'large', 'estate', ',', 'which', 'I', 'wasted', 'in', 'riotous', 'living', '.']\n",
      "\n",
      "sentence 1005 ['I', 'quickly', ',', 'perceived', 'that', 'I', 'was', 'misspending', 'my', 'time', ',', 'which', 'is', 'of', 'all', 'things', 'the', 'most', 'valuable', '.']\n",
      "\n",
      "sentence 1006 ['I', 'remembered', 'the', 'saying', 'of', 'the', 'great', 'Solomon', ',', 'which', 'I', 'had', 'frequently', 'heard', 'from', 'my', 'father', ',', '\"', 'A', 'good', 'name', 'is', 'better', 'than', 'precious', 'ointment', '\";', 'and', 'again', ',', '\"', 'Wisdom', 'is', 'good', 'with', 'an', 'inheritance', '.\"']\n",
      "\n",
      "sentence 1007 ['I', 'resolved', 'to', 'walk', 'in', 'my', 'father', \"'\", 's', 'ways', ',', 'and', 'I', 'entered', 'into', 'a', 'contract', 'with', 'some', 'merchants', ',', 'and', 'embarked', 'with', 'them', 'on', 'board', 'a', 'ship', 'we', 'had', 'fitted', 'out', 'in', 'partnership', '.']\n",
      "\n",
      "sentence 1008 ['We', 'set', 'sail', ',', 'and', 'steered', 'our', 'course', 'toward', 'the', 'Indies', ',', 'through', 'the', 'Persian', 'Gulf', '.']\n",
      "\n",
      "sentence 1009 ['At', 'first', 'I', 'was', 'troubled', 'with', 'sea', '-', 'sickness', ',', 'but', 'speedily', 'recovered', 'my', 'health', '.']\n"
     ]
    }
   ],
   "source": [
    "# Instead, nltk.sent_tokenize gives us a method to do split into actual sentences\n",
    "sentences = nltk.sent_tokenize(raw)\n",
    "\n",
    "print(\"A few sentences:\")\n",
    "for i in range(1000, 1010):\n",
    "    print(\"\\nsentence\", i, sentences[i])\n",
    "\n",
    "# And we tokenize all the words in each sentence and collect them together \n",
    "tokenized = []\n",
    "header = True\n",
    "for sentence in sentences:\n",
    "    if header and sentence.startswith(\"CONTENTS\"):\n",
    "        header = False\n",
    "    if not header: # We ignore everything before the table of contents\n",
    "        tokenized.append(nltk.wordpunct_tokenize(sentence))\n",
    "    \n",
    "\n",
    "# Let's look at the first 100 sentences. Do you spot any problems? \n",
    "print(\"A few tokenized sentences:\")\n",
    "for i in range(1000, 1010):\n",
    "    print(\"\\nsentence\", i, tokenized[i])"
   ]
  },
  {
   "cell_type": "code",
   "execution_count": 4,
   "metadata": {},
   "outputs": [
    {
     "name": "stdout",
     "output_type": "stream",
     "text": [
      "[['contents', 'preface', 'arabian', 'nights', 'ali', 'baba', 'and', 'the', 'forty', 'thieves', 'the', 'story', 'of', 'aladdin', ';', 'or', 'the', 'wonderful', 'lamp', 'sindbad', 'the', 'sailor', 'robinson', 'crusoe', 'robinson', 'crusoe', 'is', 'shipwrecked', '_daniel', 'defoe_', 'alone', 'on', 'a', 'desolate', 'island', '_daniel', 'defoe_', 'the', 'building', 'of', 'the', 'boat', '_daniel', 'defoe_', 'finds', 'the', 'print', 'of', 'a', 'man', \"'\", 's', 'foot', 'on', 'the', 'sand', '_daniel', 'defoe_', 'friday', 'rescued', 'from', 'the', 'cannibals', '_daniel', 'defoe_', 'robinson', 'crusoe', 'rescued', '_daniel', 'defoe_', 'gulliver', \"'\", 's', 'travels', 'gulliver', 'is', 'shipwrecked', 'and', 'swims', 'for', 'his', 'life', '_jonathan', 'swift_', 'gulliver', 'at', 'the', 'court', 'of', 'lilliput', '_jonathan', 'swift_', 'gulliver', 'captures', 'fifty', 'of', 'the', 'enemy', \"'\", 's', 'ships', '_jonathan', 'swift_', 'gulliver', 'leaves', 'lilliput', '_jonathan', 'swift_', 'gulliver', 'in', 'the', 'land', 'of', 'the', 'giants', '_jonathan', 'swift_', 'some', 'of', 'gulliver', \"'\", 's', 'adventures', '_jonathan', 'swift_', 'gulliver', 'escapes', 'from', 'the', 'eagle', '_jonathan', 'swift_', 'the', 'plays', 'of', 'shakespeare', 'a', 'midsummer', '-', 'night', \"'\", 's', 'dream', '_e', '.'], ['nesbit_', 'the', 'tempest', '_e', '.'], ['nesbit_', 'as', 'you', 'like', 'it', '_e', '.'], ['nesbit_', 'the', 'merchant', 'of', 'venice', '_e', '.'], ['nesbit_', 'pilgrim', \"'\", 's', 'progress', 'christian', 'starts', 'on', 'his', 'journey', '_john', 'bunyan_', 'the', 'interpreter', 'shows', 'christian', 'many', 'excellent', 'things', '_john', 'bunyan_', 'christian', \"'\", 's', 'fight', 'with', 'the', 'monster', 'apollyon', '_john', 'bunyan_', 'christian', 'and', 'hopeful', 'are', 'captives', 'in', 'doubting', 'castle', '_john', 'bunyan_', 'christian', 'and', 'hopeful', 'arrive', 'at', 'the', 'coelestial', 'city', '_john', 'bunyan_', 'ivanhoe', 'and', 'guy', 'mannering', '_sir', 'walter', 'scott_', 'ivanhoe', '_sir', 'edward', 'sullivan_', 'guy', 'mannering', '_sir', 'edward', 'sullivan_', 'the', 'startling', 'adventures', 'of', 'baron', 'munchausen', 'an', 'adventure', 'with', 'a', 'lion', 'and', 'a', 'crocodile', '_r', '.'], ['e', '.', 'raspe_', 'crossing', 'the', 'thames', 'without', 'the', 'aid', 'of', 'bridge', ',', 'boat', 'or', 'balloon', '_r', '.'], ['e', '.', 'raspe_', 'two', 'strange', 'adventures', 'in', 'russia', '_r', '.'], ['e', '.', 'raspe_', 'shooting', 'a', 'stag', 'with', 'cherrystones', '_r', '.'], ['e', '.', 'raspe_', 'the', 'baron', \"'\", 's', 'wonderful', 'dog', '_r', '.'], ['e', '.', 'raspe_', 'illustrations', '\"', 'and', 'i', 'will', 'wind', 'thee', 'in', 'my', 'arms', '\"', 'a', 'midsummer', '-', 'night', \"'\", 's', 'dream', '_frontispiece', 'illustration', 'in', 'color', 'from', 'the', 'painting', 'by', 'arthur', 'rackham', '_', 'disguised', 'as', 'a', 'traveller', 'and', 'a', 'stranger', 'ali', 'baba', 'and', 'the', 'forty', 'thieves', '_from', 'the', 'painting', 'by', 'edmund', 'dulac_', 'he', 'desired', 'i', 'would', 'stand', 'like', 'a', 'colossus', 'gulliver', 'at', 'the', 'court', 'of', 'lilliput', '_from', 'the', 'painting', 'by', 'arthur', 'rackham', '_', 'they', 'were', 'very', 'tired', 'when', 'at', 'last', 'they', 'came', 'to', 'the', 'forest', 'of', 'arden', 'as', 'you', 'like', 'it', '_from', 'the', 'painting', 'by', 'charles', 'folkard', '_', 'christian', 'nimbly', 'stretched', 'out', 'his', 'hand', 'for', 'his', 'sword', 'christian', \"'\", 's', 'fight', 'with', 'the', 'monster', 'apollyon', '_from', 'the', 'etching', 'by', 'william', 'strang', '_', 'preface', 'consciously', 'or', 'unconsciously', 'we', 'are', 'influenced', 'by', 'the', 'characters', 'we', 'admire', '.'], ['a', 'book', 'that', 'exerts', 'a', 'deep', 'as', 'well', 'as', 'a', 'wide', 'influence', 'must', 'produce', 'changes', 'in', 'the', 'reader', \"'\", 's', 'way', 'of', 'thinking', ',', 'and', 'excite', 'him', 'to', 'activity', ';', 'the', 'world', 'for', 'him', 'can', 'never', 'be', 'quite', 'the', 'same', 'that', 'it', 'was', 'before', '.'], ['such', 'books', 'have', 'an', 'important', 'part', 'in', 'moulding', 'the', 'character', 'of', 'a', 'people', '.'], ['it', 'is', 'because', 'the', 'books', 'represented', 'in', 'this', 'volume', 'have', 'been', 'doing', 'just', 'that', 'for', 'many', 'years', 'that', 'they', 'have', 'become', 'so', 'prized', '.'], ['in', 'the', 'characters', 'of', 'crusoe', ',', 'gulliver', 'and', 'christian', ',', 'to', 'mention', 'only', 'three', ',', 'english', '-', 'speaking', 'people', 'recognize', 'pictures', 'of', 'the', 'independent', ',', 'self', '-', 'reliant', 'men', ',', 'often', 'self', '-', 'educated', '(', 'at', 'least', 'in', 'many', 'important', 'particulars', '),', 'adventurous', 'and', 'daring', 'by', 'nature', ',', 'dependent', 'upon', 'themselves', 'and', 'the', 'use', 'of', 'their', 'faculties', 'for', 'happiness', ',', 'who', 'made', 'england', 'great', 'among', 'nations', ',', 'and', 'wrote', 'the', 'constitution', 'of', 'the', 'united', 'states', '.'], ['with', 'the', 'passage', 'of', 'time', 'the', 'books', 'have', 'lost', 'nothing', 'of', 'the', 'charm', 'and', 'fascination', 'which', 'they', 'have', 'ever', 'possessed', 'for', 'young', 'and', 'old', '.'], ['\"', 'was', 'there', 'ever', 'yet', 'anything', 'written', 'by', 'mere', 'man', ',\"', 'said', 'dr', '.', 'samuel', 'johnson', ',', '\"', 'that', 'was', 'wished', 'longer', 'by', 'its', 'readers', ',', 'excepting', 'robinson', 'crusoe', ',', 'pilgrim', \"'\", 's', 'progress', ',', 'and', 'don', 'quixote', '?\"'], ['at', 'this', 'time', ',', 'when', 'the', 'subject', 'of', 'vocational', 'training', 'is', 'receiving', 'so', 'much', 'attention', ',', 'and', 'public', 'school', 'instruction', 'is', 'being', 'criticized', 'because', ',', 'its', 'critics', 'say', ',', 'it', 'does', 'not', 'prepare', 'boys', 'and', 'girls', 'to', 'meet', 'the', 'demands', 'which', 'life', 'makes', 'upon', 'them', ',', 'it', 'is', 'interesting', 'to', 'read', 'what', 'was', 'said', 'almost', 'a', 'hundred', 'years', 'ago', 'by', 'a', 'man', 'whose', 'influence', 'on', 'education', 'has', 'been', 'both', 'deep', 'and', 'lasting', 'in', 'character', '.'], ['they', 'have', 'just', 'been', 'celebrating', 'in', 'france', 'the', 'centenary', 'of', 'jean', 'jacques', 'rousseau', '.'], ['in', 'the', 'early', 'chapters', 'of', '\"', 'emile', '\"', 'we', 'read', ':', '\"', 'since', 'we', 'must', 'have', 'books', ',', 'there', 'is', 'one', 'which', ',', 'to', 'my', 'mind', ',', 'furnishes', 'the', 'finest', 'treatise', 'on', 'education', 'according', 'to', 'nature', '.'], ['my', 'emile', 'shall', 'read', 'this', 'book', 'before', 'any', 'other', '.'], ['it', 'shall', 'for', 'a', 'long', 'time', 'be', 'his', 'entire', 'library', '.'], ['it', 'shall', 'be', 'a', 'test', 'for', 'all', 'we', 'meet', 'during', 'our', 'progress', 'toward', 'a', 'ripened', 'judgment', ',', 'and', 'so', 'long', 'as', 'our', 'taste', 'is', 'unspoiled', 'we', 'shall', 'enjoy', 'reading', 'it', '.'], ['what', 'wonderful', 'book', 'is', 'this', '?'], ['aristotle', '?'], ['pliny', '?'], ['buffon', '?'], ['no', ';', 'it', 'is', 'robinson', 'crusoe', '.\"'], ['there', 'is', 'no', 'more', 'useful', 'talent', 'than', 'the', 'ability', 'to', 'think', 'and', 'speak', '(', 'or', 'write', ')', 'clearly', 'and', 'simply', ',', 'no', 'matter', 'what', 'our', 'vocation', 'in', 'life', '.'], ['none', 'know', 'better', 'how', 'difficult', 'it', 'is', 'to', 'find', 'writers', 'with', 'a', 'good', 'narrative', 'style', 'than', 'those', 'editors', 'whose', 'training', 'and', 'experience', 'have', 'made', 'them', 'realize', 'its', 'value', 'and', 'importance', '.'], ['if', 'we', 'examine', 'the', 'experience', 'of', 'those', 'who', ',', 'in', 'comparatively', 'recent', 'days', ',', 'have', 'stirred', 'men', 'with', 'the', 'force', 'and', 'directness', 'of', 'their', 'simple', 'speech', ',', 'as', 'lincoln', ',', 'for', 'example', ',', 'we', 'find', 'that', 'as', 'boys', 'they', 'were', 'great', 'readers', 'of', 'the', 'bible', ',', 'and', 'robinson', 'crusoe', ',', 'gulliver', \"'\", 's', 'travels', ',', 'shakespeare', ',', 'bunyan', ',', 'and', 'scott', '.'], ['as', 'examples', 'of', 'english', 'these', 'books', 'stand', 'preeminent', '.'], ['lord', 'brougham', 'relates', 'that', 'one', 'of', 'his', 'friends', ',', 'a', 'professor', 'in', 'a', 'university', ',', 'consulted', 'one', 'of', 'the', 'ablest', 'historians', 'of', 'his', 'time', 'as', 'to', 'what', 'would', 'be', 'the', 'best', 'discipline', 'for', 'acquiring', 'a', 'good', 'narrative', 'style', ',', 'as', 'a', 'prelude', 'to', 'writing', 'a', 'book', 'of', 'travels', 'through', 'asia', '.'], ['the', 'advice', 'given', 'him', 'was', 'to', 'read', 'robinson', 'crusoe', 'carefully', '.'], ['when', 'the', 'professor', 'expressed', 'astonishment', ',', 'supposing', 'it', 'to', 'be', 'a', 'jest', ',', 'the', 'historian', 'said', 'he', 'was', 'quite', 'serious', ',', 'but', 'that', 'if', 'robinson', 'crusoe', 'would', 'not', 'help', 'him', ',', 'for', 'any', 'reason', ',', 'he', 'recommended', 'gulliver', \"'\", 's', 'travels', '.'], ['the', 'late', 'donald', 'g', '.', 'mitchell', 'once', 'said', ':', '\"', 'if', 'you', 'should', 'ever', 'have', 'any', 'story', 'of', 'your', 'own', 'to', 'tell', ',', 'and', 'want', 'to', 'tell', 'it', 'well', ',', 'i', 'advise', 'you', 'to', 'take', 'robinson', 'crusoe', 'for', 'a', 'model', '!\"'], ['parents', 'and', 'teachers', 'who', 'do', 'not', 'read', 'aloud', 'to', 'young', 'children', ',', 'or', 'who', 'do', 'not', 'practise', 'telling', 'stories', 'to', 'children', ',', 'probably', 'do', 'not', 'realize', 'what', 'simple', 'but', 'extraordinarily', 'valuable', 'opportunities', 'for', 'self', '-', 'education', 'they', 'are', 'ignoring', ',', 'to', 'say', 'nothing', 'of', 'the', 'help', 'they', 'can', 'be', 'to', 'children', '.'], ['in', 'order', 'to', 'be', 'successful', 'we', 'have', 'to', 'try', 'and', 'put', 'ourselves', 'in', 'the', 'child', \"'\", 's', 'place', '.'], ['the', 'average', 'reader', 'does', 'not', 'concentrate', 'sufficiently', 'to', 'get', 'the', 'thought', 'clearly', 'from', 'the', 'text', ',', 'and', 'does', 'not', 'imagine', 'himself', 'to', 'be', 'actually', 'in', 'the', 'midst', 'of', 'the', 'scene', 'he', 'is', 'describing', '.'], ['the', 'consequence', 'is', 'that', 'his', 'voice', 'and', 'actions', 'are', 'not', ',', 'except', 'perhaps', 'in', 'a', 'slight', 'degree', ',', 'affected', 'by', 'the', 'emotions', 'he', 'is', 'supposed', 'to', 'be', 'experiencing', '.'], ['dramatic', 'rendering', 'of', 'dramatic', 'passages', 'is', 'worth', 'striving', 'for', ',', 'and', 'should', 'be', 'encouraged', 'on', 'the', 'part', 'of', 'children', '.'], ['the', 'story', '-', 'teller', 'who', 'roars', 'with', 'the', 'lion', 'and', 'bleats', 'with', 'the', 'lamb', 'is', 'sure', 'to', 'be', 'rewarded', 'with', 'shouts', 'of', 'enthusiastic', 'delight', 'from', 'the', 'audience', '.'], ['the', 'arabian', 'nights', '_all', 'nations', 'have', 'their', 'fairy', 'tales', ',', 'but', 'india', 'seems', 'to', 'have', 'been', 'the', 'country', 'from', 'which', 'they', 'all', 'started', ',', 'carried', 'on', 'their', 'travels', 'by', 'the', 'professional', 'story', '-', 'tellers', 'who', 'kept', 'the', 'tales', 'alive', 'throughout', 'asia', '.'], ['in', 'bagdad', 'and', 'cairo', 'to', '-', 'day', ',', 'that', 'cafe', 'never', 'lacks', 'customers', 'where', 'the', 'blind', 'storyteller', 'relates', 'to', 'the', 'spell', '-', 'bound', 'arabs', 'some', 'chapter', 'from', 'the', 'immortal', 'arabian', 'nights', ',', 'the', 'king', 'of', 'all', 'wonder', 'books', '.'], ['no', 'one', 'knows', 'where', 'the', 'tales', 'were', 'written', ',', 'except', 'that', 'they', 'came', 'out', 'of', 'the', 'far', 'east', ',', 'india', ',', 'arabia', 'and', 'persia', '.'], ['haroun', 'al', 'raschid', ',', 'who', 'was', 'called', 'the', 'just', ',', 'was', 'a', 'real', 'eastern', 'monarch', 'who', 'lived', 'in', 'bagdad', 'over', 'eleven', 'hundred', 'years', 'ago', ',', 'about', 'the', 'same', 'time', 'that', 'charlemagne', 'was', 'king', 'of', 'france', '.'], ['we', 'can', 'believe', 'that', 'the', 'tales', 'are', 'very', 'old', ',', 'but', 'the', 'most', 'we', 'know', 'is', 'that', 'they', 'were', 'translated', 'from', 'arabic', 'into', 'french', 'in', '1704', '-', '17', 'by', 'a', 'frenchman', 'named', 'galland', ',', 'and', 'that', 'the', 'manuscript', 'of', 'his', 'translation', 'is', 'preserved', 'in', 'the', 'french', 'national', 'library', '.'], ['american', 'boys', 'first', 'had', 'the', 'chance', 'to', 'read', 'the', 'notes', 'in', 'english', 'about', 'the', 'time', 'president', 'monroe', 'was', 'elected', '.', '_', 'ali', 'baba', 'and', 'the', 'forty', 'thieves', 'there', 'once', 'lived', 'in', 'a', 'town', 'of', 'persia', 'two', 'brothers', ',', 'one', 'named', 'cassim', ',', 'and', 'the', 'other', 'ali', 'baba', '.'], ['their', 'father', 'divided', 'a', 'small', 'inheritance', 'equally', 'between', 'them', '.'], ['cassim', 'married', 'a', 'very', 'rich', 'wife', ',', 'and', 'became', 'a', 'wealthy', 'merchant', '.'], ['ali', 'baba', 'married', 'a', 'woman', 'as', 'poor', 'as', 'himself', ',', 'and', 'lived', 'by', 'cutting', 'wood', ',', 'and', 'bringing', 'it', 'upon', 'three', 'asses', 'into', 'the', 'town', 'to', 'sell', '.'], ['one', 'day', ',', 'when', 'ali', 'baba', 'was', 'in', 'the', 'forest', ',', 'and', 'had', 'just', 'cut', 'wood', 'enough', 'to', 'load', 'his', 'asses', ',', 'he', 'saw', 'at', 'a', 'distance', 'a', 'great', 'cloud', 'of', 'dust', ',', 'which', 'seemed', 'to', 'approach', 'him', '.'], ['he', 'observed', 'it', 'with', 'attention', ',', 'and', 'distinguished', 'soon', 'after', 'a', 'body', 'of', 'horsemen', ',', 'whom', 'he', 'suspected', 'might', 'be', 'robbers', '.'], ['he', 'determined', 'to', 'leave', 'his', 'asses', 'to', 'save', 'himself', '.'], ['he', 'climbed', 'up', 'a', 'large', 'tree', ',', 'planted', 'on', 'a', 'high', 'rock', ',', 'whose', 'branches', 'were', 'thick', 'enough', 'to', 'conceal', 'him', ',', 'and', 'yet', 'enabled', 'him', 'to', 'see', 'all', 'that', 'passed', 'without', 'being', 'discovered', '.'], ['the', 'troop', ',', 'who', 'were', 'to', 'the', 'number', 'of', 'forty', ',', 'all', 'well', 'mounted', 'and', 'armed', ',', 'came', 'to', 'the', 'foot', 'of', 'the', 'rock', 'on', 'which', 'the', 'tree', 'stood', ',', 'and', 'there', 'dismounted', '.'], ['every', 'man', 'unbridled', 'his', 'horse', ',', 'tied', 'him', 'to', 'some', 'shrub', ',', 'and', 'hung', 'about', 'his', 'neck', 'a', 'bag', 'of', 'corn', 'which', 'they', 'brought', 'behind', 'them', '.'], ['then', 'each', 'of', 'them', 'took', 'off', 'his', 'saddle', '-', 'bag', ',', 'which', 'seemed', 'to', 'ali', 'baba', 'to', 'be', 'full', 'of', 'gold', 'and', 'silver', 'from', 'its', 'weight', '.'], ['one', ',', 'whom', 'he', 'took', 'to', 'be', 'their', 'captain', ',', 'came', 'under', 'the', 'tree', 'in', 'which', 'ali', 'baba', 'was', 'concealed', ';', 'and', ',', 'making', 'his', 'way', 'through', 'some', 'shrubs', ',', 'pronounced', 'these', 'words', '--\"', 'open', ',', 'sesame', '!\"'], ['as', 'soon', 'as', 'the', 'captain', 'of', 'the', 'robbers', 'had', 'thus', 'spoken', ',', 'a', 'door', 'opened', 'in', 'the', 'rock', ';', 'and', 'after', 'he', 'had', 'made', 'all', 'his', 'troop', 'enter', 'before', 'him', ',', 'he', 'followed', 'them', ',', 'when', 'the', 'door', 'shut', 'again', 'of', 'itself', '.'], ['the', 'robbers', 'stayed', 'some', 'time', 'within', 'the', 'rock', ',', 'during', 'which', 'ali', 'baba', ',', 'fearful', 'of', 'being', 'caught', ',', 'remained', 'in', 'the', 'tree', '.'], ['at', 'last', 'the', 'door', 'opened', 'again', ',', 'and', 'as', 'the', 'captain', 'went', 'in', 'last', ',', 'so', 'he', 'came', 'out', 'first', ',', 'and', 'stood', 'to', 'see', 'them', 'all', 'pass', 'by', 'him', ';', 'when', 'ali', 'baba', 'heard', 'him', 'make', 'the', 'door', 'close', 'by', 'pronouncing', 'these', 'words', ',', '\"', 'shut', ',', 'sesame', '!\"'], ['every', 'man', 'at', 'once', 'went', 'and', 'bridled', 'his', 'horse', ',', 'fastened', 'his', 'wallet', ',', 'and', 'mounted', 'again', '.'], ['when', 'the', 'captain', 'saw', 'them', 'all', 'ready', ',', 'he', 'put', 'himself', 'at', 'their', 'head', ',', 'and', 'they', 'returned', 'the', 'way', 'they', 'had', 'come', '.'], ['ali', 'baba', 'followed', 'them', 'with', 'his', 'eyes', 'as', 'far', 'as', 'he', 'could', 'see', 'them', ',', 'and', 'afterward', 'stayed', 'a', 'considerable', 'time', 'before', 'he', 'descended', '.'], ['remembering', 'the', 'words', 'the', 'captain', 'of', 'the', 'robbers', 'used', 'to', 'cause', 'the', 'door', 'to', 'open', 'and', 'shut', ',', 'he', 'had', 'the', 'curiosity', 'to', 'try', 'if', 'his', 'pronouncing', 'them', 'would', 'have', 'the', 'same', 'effect', '.'], ['accordingly', ',', 'he', 'went', 'among', 'the', 'shrubs', ',', 'and', 'perceiving', 'the', 'door', 'concealed', 'behind', 'them', ',', 'stood', 'before', 'it', 'and', 'said', ',', '\"', 'open', ',', 'sesame', '!\"'], ['the', 'door', 'instantly', 'flew', 'wide', 'open', '.'], ['ali', 'baba', ',', 'who', 'expected', 'a', 'dark', ',', 'dismal', 'cavern', ',', 'was', 'surprised', 'to', 'see', 'a', 'well', '-', 'lighted', 'and', 'spacious', 'chamber', ',', 'which', 'received', 'the', 'light', 'from', 'an', 'opening', 'at', 'the', 'top', 'of', 'the', 'rock', ',', 'and', 'in', 'which', 'were', 'all', 'sorts', 'of', 'provisions', ',', 'rich', 'bales', 'of', 'silk', ',', 'stuff', ',', 'brocade', ',', 'and', 'valuable', 'carpeting', ',', 'piled', 'upon', 'one', 'another', ',', 'gold', 'and', 'silver', 'ingots', 'in', 'great', 'heaps', ',', 'and', 'money', 'in', 'bags', '.'], ['the', 'sight', 'of', 'all', 'these', 'riches', 'made', 'him', 'suppose', 'that', 'this', 'cave', 'must', 'have', 'been', 'occupied', 'for', 'ages', 'by', 'robbers', ',', 'who', 'had', 'succeeded', 'one', 'another', '.'], ['ali', 'baba', 'went', 'boldly', 'into', 'the', 'cave', ',', 'and', 'collected', 'as', 'much', 'of', 'the', 'gold', 'coin', ',', 'which', 'was', 'in', 'bags', ',', 'as', 'he', 'thought', 'his', 'three', 'asses', 'could', 'carry', '.'], ['when', 'he', 'had', 'loaded', 'them', 'with', 'the', 'bags', ',', 'he', 'laid', 'wood', 'over', 'them', 'in', 'such', 'a', 'manner', 'that', 'they', 'could', 'not', 'be', 'seen', '.'], ['when', 'he', 'had', 'passed', 'in', 'and', 'out', 'as', 'often', 'as', 'he', 'wished', ',', 'he', 'stood', 'before', 'the', 'door', ',', 'and', 'pronouncing', 'the', 'words', ',', '\"', 'shut', ',', 'sesame', '!\"'], ['the', 'door', 'closed', 'of', 'itself', '.'], ['he', 'then', 'made', 'the', 'best', 'of', 'his', 'way', 'to', 'town', '.'], ['when', 'ali', 'baba', 'got', 'home', ',', 'he', 'drove', 'his', 'asses', 'into', 'a', 'little', 'yard', ',', 'shut', 'the', 'gates', 'very', 'carefully', ',', 'threw', 'off', 'the', 'wood', 'that', 'covered', 'the', 'panniers', ',', 'carried', 'the', 'bags', 'into', 'the', 'house', ',', 'and', 'ranged', 'them', 'in', 'order', 'before', 'his', 'wife', '.'], ['he', 'then', 'emptied', 'the', 'bags', ',', 'which', 'raised', 'such', 'a', 'great', 'heap', 'of', 'gold', 'as', 'dazzled', 'his', 'wife', \"'\", 's', 'eyes', ',', 'and', 'then', 'he', 'told', 'her', 'the', 'whole', 'adventure', 'from', 'beginning', 'to', 'end', ',', 'and', ',', 'above', 'all', ',', 'recommended', 'her', 'to', 'keep', 'it', 'secret', '.'], ['the', 'wife', 'rejoiced', 'greatly', 'at', 'their', 'good', '-', 'fortune', ',', 'and', 'would', 'count', 'all', 'the', 'gold', 'piece', 'by', 'piece', '.'], ['\"', 'wife', ',\"', 'replied', 'ali', 'baba', ',', '\"', 'you', 'do', 'not', 'know', 'what', 'you', 'undertake', ',', 'when', 'you', 'pretend', 'to', 'count', 'the', 'money', ';', 'you', 'will', 'never', 'have', 'done', '.'], ['i', 'will', 'dig', 'a', 'hole', 'and', 'bury', 'it', '.'], ['there', 'is', 'no', 'time', 'to', 'be', 'lost', '.\"'], ['\"', 'you', 'are', 'in', 'the', 'right', ',', 'husband', ',\"', 'replied', 'she', ';', '\"', 'but', 'let', 'us', 'know', ',', 'as', 'nigh', 'as', 'possible', ',', 'how', 'much', 'we', 'have', '.'], ['i', 'will', 'borrow', 'a', 'small', 'measure', ',', 'and', 'measure', 'it', 'while', 'you', 'dig', 'the', 'hole', '.\"'], ['away', 'the', 'wife', 'ran', 'to', 'her', 'brother', '-', 'in', '-', 'law', 'cassim', ',', 'who', 'lived', 'just', 'by', ',', 'and', ',', 'addressing', 'herself', 'to', 'his', 'wife', ',', 'desired', 'her', 'to', 'lend', 'her', 'a', 'measure', 'for', 'a', 'little', 'while', '.'], ['her', 'sister', '-', 'in', '-', 'law', 'asked', 'her', 'whether', 'she', 'would', 'have', 'a', 'great', 'or', 'a', 'small', 'one', '.'], ['the', 'other', 'asked', 'for', 'a', 'small', 'one', '.'], ['she', 'bade', 'her', 'stay', 'a', 'little', ',', 'and', 'she', 'would', 'readily', 'fetch', 'one', '.'], ['the', 'sister', '-', 'in', '-', 'law', 'did', 'so', ',', 'but', 'as', 'she', 'knew', 'ali', 'baba', \"'\", 's', 'poverty', ',', 'she', 'was', 'curious', 'to', 'know', 'what', 'sort', 'of', 'grain', 'his', 'wife', 'wanted', 'to', 'measure', ',', 'and', ',', 'artfully', 'putting', 'some', 'suet', 'at', 'the', 'bottom', 'of', 'the', 'measure', ',', 'brought', 'it', 'to', 'her', ',', 'with', 'the', 'excuse', 'that', 'she', 'was', 'sorry', 'that', 'she', 'had', 'made', 'her', 'stay', 'so', 'long', ',', 'but', 'that', 'she', 'could', 'not', 'find', 'it', 'sooner', '.'], ['ali', 'baba', \"'\", 's', 'wife', 'went', 'home', ',', 'set', 'the', 'measure', 'upon', 'the', 'heap', 'of', 'gold', ',', 'filled', 'it', ',', 'and', 'emptied', 'it', 'often', 'upon', 'the', 'sofa', ',', 'till', 'she', 'had', 'done', ',', 'when', 'she', 'was', 'very', 'well', 'satisfied', 'to', 'find', 'the', 'number', 'of', 'measures', 'amounted', 'to', 'so', 'many', 'as', 'they', 'did', ',', 'and', 'went', 'to', 'tell', 'her', 'husband', ',', 'who', 'had', 'almost', 'finished', 'digging', 'the', 'hole', '.'], ['while', 'ali', 'baba', 'was', 'burying', 'the', 'gold', ',', 'his', 'wife', ',', 'to', 'show', 'her', 'exactness', 'and', 'diligence', 'to', 'her', 'sister', '-', 'in', '-', 'law', ',', 'carried', 'the', 'measure', 'back', 'again', ',', 'but', 'without', 'taking', 'notice', 'that', 'a', 'piece', 'of', 'gold', 'had', 'stuck', 'to', 'the', 'bottom', '.'], ['\"', 'sister', ',\"', 'said', 'she', ',', 'giving', 'it', 'to', 'her', 'again', ',', '\"', 'you', 'see', 'that', 'i', 'have', 'not', 'kept', 'your', 'measure', 'long', '.'], ['i', 'am', 'obliged', 'to', 'you', 'for', 'it', ',', 'and', 'return', 'it', 'with', 'thanks', '.\"'], ['as', 'soon', 'as', 'ali', 'baba', \"'\", 's', 'wife', 'was', 'gone', ',', 'cassim', \"'\", 's', 'wife', 'looked', 'at', 'the', 'bottom', 'of', 'the', 'measure', ',', 'and', 'was', 'in', 'inexpressible', 'surprise', 'to', 'find', 'a', 'piece', 'of', 'gold', 'sticking', 'to', 'it', '.'], ['envy', 'immediately', 'possessed', 'her', 'breast', '.'], ['\"', 'what', '!\"'], ['said', 'she', ',', '\"', 'has', 'ali', 'baba', 'gold', 'so', 'plentiful', 'as', 'to', 'measure', 'it', '?'], ['whence', 'has', 'he', 'all', 'this', 'wealth', '?\"'], ['cassim', ',', 'her', 'husband', ',', 'was', 'at', 'his', 'counting', '-', 'house', '.'], ['when', 'he', 'came', 'home', 'his', 'wife', 'said', 'to', 'him', ',', '\"', 'cassim', ',', 'i', 'know', 'you', 'think', 'yourself', 'rich', ',', 'but', 'ali', 'baba', 'is', 'infinitely', 'richer', 'than', 'you', '.'], ['he', 'does', 'not', 'count', 'his', 'money', ',', 'but', 'measures', 'it', '.\"'], ['cassim', 'desired', 'her', 'to', 'explain', 'the', 'riddle', ',', 'which', 'she', 'did', 'by', 'telling', 'him', 'the', 'stratagem', 'she', 'had', 'used', 'to', 'make', 'the', 'discovery', ',', 'and', 'showed', 'him', 'the', 'piece', 'of', 'money', ',', 'which', 'was', 'so', 'old', 'that', 'they', 'could', 'not', 'tell', 'in', 'what', 'prince', \"'\", 's', 'reign', 'it', 'was', 'coined', '.']]\n"
     ]
    }
   ],
   "source": [
    "# Let's lowercase the text:\n",
    "lowercased = []\n",
    "for sentence in tokenized:\n",
    "    lowercased.append( [s.lower() for s in sentence] )\n",
    "        \n",
    "print(lowercased[:100])"
   ]
  },
  {
   "cell_type": "markdown",
   "metadata": {},
   "source": [
    "In this part we are going to use some *regular expressions* via the [re](https://docs.python.org/3/library/re.html) package. Regular expressions (often shortened to *regex*) are a powerful tool for finding patterns in text. It is useful for preparing data for in modelling as it helps with unwanted characters (like punctuation) or searching text.   "
   ]
  },
  {
   "cell_type": "code",
   "execution_count": 5,
   "metadata": {},
   "outputs": [
    {
     "name": "stdout",
     "output_type": "stream",
     "text": [
      "[['contents', 'preface', 'arabian', 'nights', 'ali', 'baba', 'and', 'the', 'forty', 'thieves', 'the', 'story', 'of', 'aladdin', 'or', 'the', 'wonderful', 'lamp', 'sindbad', 'the', 'sailor', 'robinson', 'crusoe', 'robinson', 'crusoe', 'is', 'shipwrecked', 'daniel', 'defoe', 'alone', 'on', 'a', 'desolate', 'island', 'daniel', 'defoe', 'the', 'building', 'of', 'the', 'boat', 'daniel', 'defoe', 'finds', 'the', 'print', 'of', 'a', 'man', 's', 'foot', 'on', 'the', 'sand', 'daniel', 'defoe', 'friday', 'rescued', 'from', 'the', 'cannibals', 'daniel', 'defoe', 'robinson', 'crusoe', 'rescued', 'daniel', 'defoe', 'gulliver', 's', 'travels', 'gulliver', 'is', 'shipwrecked', 'and', 'swims', 'for', 'his', 'life', 'jonathan', 'swift', 'gulliver', 'at', 'the', 'court', 'of', 'lilliput', 'jonathan', 'swift', 'gulliver', 'captures', 'fifty', 'of', 'the', 'enemy', 's', 'ships', 'jonathan', 'swift', 'gulliver', 'leaves', 'lilliput', 'jonathan', 'swift', 'gulliver', 'in', 'the', 'land', 'of', 'the', 'giants', 'jonathan', 'swift', 'some', 'of', 'gulliver', 's', 'adventures', 'jonathan', 'swift', 'gulliver', 'escapes', 'from', 'the', 'eagle', 'jonathan', 'swift', 'the', 'plays', 'of', 'shakespeare', 'a', 'midsummer', 'night', 's', 'dream', 'e'], ['nesbit', 'the', 'tempest', 'e'], ['nesbit', 'as', 'you', 'like', 'it', 'e'], ['nesbit', 'the', 'merchant', 'of', 'venice', 'e'], ['nesbit', 'pilgrim', 's', 'progress', 'christian', 'starts', 'on', 'his', 'journey', 'john', 'bunyan', 'the', 'interpreter', 'shows', 'christian', 'many', 'excellent', 'things', 'john', 'bunyan', 'christian', 's', 'fight', 'with', 'the', 'monster', 'apollyon', 'john', 'bunyan', 'christian', 'and', 'hopeful', 'are', 'captives', 'in', 'doubting', 'castle', 'john', 'bunyan', 'christian', 'and', 'hopeful', 'arrive', 'at', 'the', 'coelestial', 'city', 'john', 'bunyan', 'ivanhoe', 'and', 'guy', 'mannering', 'sir', 'walter', 'scott', 'ivanhoe', 'sir', 'edward', 'sullivan', 'guy', 'mannering', 'sir', 'edward', 'sullivan', 'the', 'startling', 'adventures', 'of', 'baron', 'munchausen', 'an', 'adventure', 'with', 'a', 'lion', 'and', 'a', 'crocodile', 'r'], ['e', 'raspe', 'crossing', 'the', 'thames', 'without', 'the', 'aid', 'of', 'bridge', 'boat', 'or', 'balloon', 'r'], ['e', 'raspe', 'two', 'strange', 'adventures', 'in', 'russia', 'r'], ['e', 'raspe', 'shooting', 'a', 'stag', 'with', 'cherrystones', 'r'], ['e', 'raspe', 'the', 'baron', 's', 'wonderful', 'dog', 'r'], ['e', 'raspe', 'illustrations', 'and', 'i', 'will', 'wind', 'thee', 'in', 'my', 'arms', 'a', 'midsummer', 'night', 's', 'dream', 'frontispiece', 'illustration', 'in', 'color', 'from', 'the', 'painting', 'by', 'arthur', 'rackham', 'disguised', 'as', 'a', 'traveller', 'and', 'a', 'stranger', 'ali', 'baba', 'and', 'the', 'forty', 'thieves', 'from', 'the', 'painting', 'by', 'edmund', 'dulac', 'he', 'desired', 'i', 'would', 'stand', 'like', 'a', 'colossus', 'gulliver', 'at', 'the', 'court', 'of', 'lilliput', 'from', 'the', 'painting', 'by', 'arthur', 'rackham', 'they', 'were', 'very', 'tired', 'when', 'at', 'last', 'they', 'came', 'to', 'the', 'forest', 'of', 'arden', 'as', 'you', 'like', 'it', 'from', 'the', 'painting', 'by', 'charles', 'folkard', 'christian', 'nimbly', 'stretched', 'out', 'his', 'hand', 'for', 'his', 'sword', 'christian', 's', 'fight', 'with', 'the', 'monster', 'apollyon', 'from', 'the', 'etching', 'by', 'william', 'strang', 'preface', 'consciously', 'or', 'unconsciously', 'we', 'are', 'influenced', 'by', 'the', 'characters', 'we', 'admire'], ['a', 'book', 'that', 'exerts', 'a', 'deep', 'as', 'well', 'as', 'a', 'wide', 'influence', 'must', 'produce', 'changes', 'in', 'the', 'reader', 's', 'way', 'of', 'thinking', 'and', 'excite', 'him', 'to', 'activity', 'the', 'world', 'for', 'him', 'can', 'never', 'be', 'quite', 'the', 'same', 'that', 'it', 'was', 'before'], ['such', 'books', 'have', 'an', 'important', 'part', 'in', 'moulding', 'the', 'character', 'of', 'a', 'people'], ['it', 'is', 'because', 'the', 'books', 'represented', 'in', 'this', 'volume', 'have', 'been', 'doing', 'just', 'that', 'for', 'many', 'years', 'that', 'they', 'have', 'become', 'so', 'prized'], ['in', 'the', 'characters', 'of', 'crusoe', 'gulliver', 'and', 'christian', 'to', 'mention', 'only', 'three', 'english', 'speaking', 'people', 'recognize', 'pictures', 'of', 'the', 'independent', 'self', 'reliant', 'men', 'often', 'self', 'educated', 'at', 'least', 'in', 'many', 'important', 'particulars', 'adventurous', 'and', 'daring', 'by', 'nature', 'dependent', 'upon', 'themselves', 'and', 'the', 'use', 'of', 'their', 'faculties', 'for', 'happiness', 'who', 'made', 'england', 'great', 'among', 'nations', 'and', 'wrote', 'the', 'constitution', 'of', 'the', 'united', 'states'], ['with', 'the', 'passage', 'of', 'time', 'the', 'books', 'have', 'lost', 'nothing', 'of', 'the', 'charm', 'and', 'fascination', 'which', 'they', 'have', 'ever', 'possessed', 'for', 'young', 'and', 'old'], ['was', 'there', 'ever', 'yet', 'anything', 'written', 'by', 'mere', 'man', 'said', 'dr', 'samuel', 'johnson', 'that', 'was', 'wished', 'longer', 'by', 'its', 'readers', 'excepting', 'robinson', 'crusoe', 'pilgrim', 's', 'progress', 'and', 'don', 'quixote'], ['at', 'this', 'time', 'when', 'the', 'subject', 'of', 'vocational', 'training', 'is', 'receiving', 'so', 'much', 'attention', 'and', 'public', 'school', 'instruction', 'is', 'being', 'criticized', 'because', 'its', 'critics', 'say', 'it', 'does', 'not', 'prepare', 'boys', 'and', 'girls', 'to', 'meet', 'the', 'demands', 'which', 'life', 'makes', 'upon', 'them', 'it', 'is', 'interesting', 'to', 'read', 'what', 'was', 'said', 'almost', 'a', 'hundred', 'years', 'ago', 'by', 'a', 'man', 'whose', 'influence', 'on', 'education', 'has', 'been', 'both', 'deep', 'and', 'lasting', 'in', 'character'], ['they', 'have', 'just', 'been', 'celebrating', 'in', 'france', 'the', 'centenary', 'of', 'jean', 'jacques', 'rousseau'], ['in', 'the', 'early', 'chapters', 'of', 'emile', 'we', 'read', 'since', 'we', 'must', 'have', 'books', 'there', 'is', 'one', 'which', 'to', 'my', 'mind', 'furnishes', 'the', 'finest', 'treatise', 'on', 'education', 'according', 'to', 'nature'], ['my', 'emile', 'shall', 'read', 'this', 'book', 'before', 'any', 'other'], ['it', 'shall', 'for', 'a', 'long', 'time', 'be', 'his', 'entire', 'library'], ['it', 'shall', 'be', 'a', 'test', 'for', 'all', 'we', 'meet', 'during', 'our', 'progress', 'toward', 'a', 'ripened', 'judgment', 'and', 'so', 'long', 'as', 'our', 'taste', 'is', 'unspoiled', 'we', 'shall', 'enjoy', 'reading', 'it'], ['what', 'wonderful', 'book', 'is', 'this'], ['aristotle'], ['pliny'], ['buffon'], ['no', 'it', 'is', 'robinson', 'crusoe'], ['there', 'is', 'no', 'more', 'useful', 'talent', 'than', 'the', 'ability', 'to', 'think', 'and', 'speak', 'or', 'write', 'clearly', 'and', 'simply', 'no', 'matter', 'what', 'our', 'vocation', 'in', 'life'], ['none', 'know', 'better', 'how', 'difficult', 'it', 'is', 'to', 'find', 'writers', 'with', 'a', 'good', 'narrative', 'style', 'than', 'those', 'editors', 'whose', 'training', 'and', 'experience', 'have', 'made', 'them', 'realize', 'its', 'value', 'and', 'importance'], ['if', 'we', 'examine', 'the', 'experience', 'of', 'those', 'who', 'in', 'comparatively', 'recent', 'days', 'have', 'stirred', 'men', 'with', 'the', 'force', 'and', 'directness', 'of', 'their', 'simple', 'speech', 'as', 'lincoln', 'for', 'example', 'we', 'find', 'that', 'as', 'boys', 'they', 'were', 'great', 'readers', 'of', 'the', 'bible', 'and', 'robinson', 'crusoe', 'gulliver', 's', 'travels', 'shakespeare', 'bunyan', 'and', 'scott'], ['as', 'examples', 'of', 'english', 'these', 'books', 'stand', 'preeminent'], ['lord', 'brougham', 'relates', 'that', 'one', 'of', 'his', 'friends', 'a', 'professor', 'in', 'a', 'university', 'consulted', 'one', 'of', 'the', 'ablest', 'historians', 'of', 'his', 'time', 'as', 'to', 'what', 'would', 'be', 'the', 'best', 'discipline', 'for', 'acquiring', 'a', 'good', 'narrative', 'style', 'as', 'a', 'prelude', 'to', 'writing', 'a', 'book', 'of', 'travels', 'through', 'asia'], ['the', 'advice', 'given', 'him', 'was', 'to', 'read', 'robinson', 'crusoe', 'carefully'], ['when', 'the', 'professor', 'expressed', 'astonishment', 'supposing', 'it', 'to', 'be', 'a', 'jest', 'the', 'historian', 'said', 'he', 'was', 'quite', 'serious', 'but', 'that', 'if', 'robinson', 'crusoe', 'would', 'not', 'help', 'him', 'for', 'any', 'reason', 'he', 'recommended', 'gulliver', 's', 'travels'], ['the', 'late', 'donald', 'g', 'mitchell', 'once', 'said', 'if', 'you', 'should', 'ever', 'have', 'any', 'story', 'of', 'your', 'own', 'to', 'tell', 'and', 'want', 'to', 'tell', 'it', 'well', 'i', 'advise', 'you', 'to', 'take', 'robinson', 'crusoe', 'for', 'a', 'model'], ['parents', 'and', 'teachers', 'who', 'do', 'not', 'read', 'aloud', 'to', 'young', 'children', 'or', 'who', 'do', 'not', 'practise', 'telling', 'stories', 'to', 'children', 'probably', 'do', 'not', 'realize', 'what', 'simple', 'but', 'extraordinarily', 'valuable', 'opportunities', 'for', 'self', 'education', 'they', 'are', 'ignoring', 'to', 'say', 'nothing', 'of', 'the', 'help', 'they', 'can', 'be', 'to', 'children'], ['in', 'order', 'to', 'be', 'successful', 'we', 'have', 'to', 'try', 'and', 'put', 'ourselves', 'in', 'the', 'child', 's', 'place'], ['the', 'average', 'reader', 'does', 'not', 'concentrate', 'sufficiently', 'to', 'get', 'the', 'thought', 'clearly', 'from', 'the', 'text', 'and', 'does', 'not', 'imagine', 'himself', 'to', 'be', 'actually', 'in', 'the', 'midst', 'of', 'the', 'scene', 'he', 'is', 'describing'], ['the', 'consequence', 'is', 'that', 'his', 'voice', 'and', 'actions', 'are', 'not', 'except', 'perhaps', 'in', 'a', 'slight', 'degree', 'affected', 'by', 'the', 'emotions', 'he', 'is', 'supposed', 'to', 'be', 'experiencing'], ['dramatic', 'rendering', 'of', 'dramatic', 'passages', 'is', 'worth', 'striving', 'for', 'and', 'should', 'be', 'encouraged', 'on', 'the', 'part', 'of', 'children'], ['the', 'story', 'teller', 'who', 'roars', 'with', 'the', 'lion', 'and', 'bleats', 'with', 'the', 'lamb', 'is', 'sure', 'to', 'be', 'rewarded', 'with', 'shouts', 'of', 'enthusiastic', 'delight', 'from', 'the', 'audience'], ['the', 'arabian', 'nights', 'all', 'nations', 'have', 'their', 'fairy', 'tales', 'but', 'india', 'seems', 'to', 'have', 'been', 'the', 'country', 'from', 'which', 'they', 'all', 'started', 'carried', 'on', 'their', 'travels', 'by', 'the', 'professional', 'story', 'tellers', 'who', 'kept', 'the', 'tales', 'alive', 'throughout', 'asia'], ['in', 'bagdad', 'and', 'cairo', 'to', 'day', 'that', 'cafe', 'never', 'lacks', 'customers', 'where', 'the', 'blind', 'storyteller', 'relates', 'to', 'the', 'spell', 'bound', 'arabs', 'some', 'chapter', 'from', 'the', 'immortal', 'arabian', 'nights', 'the', 'king', 'of', 'all', 'wonder', 'books'], ['no', 'one', 'knows', 'where', 'the', 'tales', 'were', 'written', 'except', 'that', 'they', 'came', 'out', 'of', 'the', 'far', 'east', 'india', 'arabia', 'and', 'persia'], ['haroun', 'al', 'raschid', 'who', 'was', 'called', 'the', 'just', 'was', 'a', 'real', 'eastern', 'monarch', 'who', 'lived', 'in', 'bagdad', 'over', 'eleven', 'hundred', 'years', 'ago', 'about', 'the', 'same', 'time', 'that', 'charlemagne', 'was', 'king', 'of', 'france'], ['we', 'can', 'believe', 'that', 'the', 'tales', 'are', 'very', 'old', 'but', 'the', 'most', 'we', 'know', 'is', 'that', 'they', 'were', 'translated', 'from', 'arabic', 'into', 'french', 'in', 'by', 'a', 'frenchman', 'named', 'galland', 'and', 'that', 'the', 'manuscript', 'of', 'his', 'translation', 'is', 'preserved', 'in', 'the', 'french', 'national', 'library'], ['american', 'boys', 'first', 'had', 'the', 'chance', 'to', 'read', 'the', 'notes', 'in', 'english', 'about', 'the', 'time', 'president', 'monroe', 'was', 'elected', 'ali', 'baba', 'and', 'the', 'forty', 'thieves', 'there', 'once', 'lived', 'in', 'a', 'town', 'of', 'persia', 'two', 'brothers', 'one', 'named', 'cassim', 'and', 'the', 'other', 'ali', 'baba'], ['their', 'father', 'divided', 'a', 'small', 'inheritance', 'equally', 'between', 'them'], ['cassim', 'married', 'a', 'very', 'rich', 'wife', 'and', 'became', 'a', 'wealthy', 'merchant'], ['ali', 'baba', 'married', 'a', 'woman', 'as', 'poor', 'as', 'himself', 'and', 'lived', 'by', 'cutting', 'wood', 'and', 'bringing', 'it', 'upon', 'three', 'asses', 'into', 'the', 'town', 'to', 'sell'], ['one', 'day', 'when', 'ali', 'baba', 'was', 'in', 'the', 'forest', 'and', 'had', 'just', 'cut', 'wood', 'enough', 'to', 'load', 'his', 'asses', 'he', 'saw', 'at', 'a', 'distance', 'a', 'great', 'cloud', 'of', 'dust', 'which', 'seemed', 'to', 'approach', 'him'], ['he', 'observed', 'it', 'with', 'attention', 'and', 'distinguished', 'soon', 'after', 'a', 'body', 'of', 'horsemen', 'whom', 'he', 'suspected', 'might', 'be', 'robbers'], ['he', 'determined', 'to', 'leave', 'his', 'asses', 'to', 'save', 'himself'], ['he', 'climbed', 'up', 'a', 'large', 'tree', 'planted', 'on', 'a', 'high', 'rock', 'whose', 'branches', 'were', 'thick', 'enough', 'to', 'conceal', 'him', 'and', 'yet', 'enabled', 'him', 'to', 'see', 'all', 'that', 'passed', 'without', 'being', 'discovered'], ['the', 'troop', 'who', 'were', 'to', 'the', 'number', 'of', 'forty', 'all', 'well', 'mounted', 'and', 'armed', 'came', 'to', 'the', 'foot', 'of', 'the', 'rock', 'on', 'which', 'the', 'tree', 'stood', 'and', 'there', 'dismounted'], ['every', 'man', 'unbridled', 'his', 'horse', 'tied', 'him', 'to', 'some', 'shrub', 'and', 'hung', 'about', 'his', 'neck', 'a', 'bag', 'of', 'corn', 'which', 'they', 'brought', 'behind', 'them'], ['then', 'each', 'of', 'them', 'took', 'off', 'his', 'saddle', 'bag', 'which', 'seemed', 'to', 'ali', 'baba', 'to', 'be', 'full', 'of', 'gold', 'and', 'silver', 'from', 'its', 'weight'], ['one', 'whom', 'he', 'took', 'to', 'be', 'their', 'captain', 'came', 'under', 'the', 'tree', 'in', 'which', 'ali', 'baba', 'was', 'concealed', 'and', 'making', 'his', 'way', 'through', 'some', 'shrubs', 'pronounced', 'these', 'words', 'open', 'sesame'], ['as', 'soon', 'as', 'the', 'captain', 'of', 'the', 'robbers', 'had', 'thus', 'spoken', 'a', 'door', 'opened', 'in', 'the', 'rock', 'and', 'after', 'he', 'had', 'made', 'all', 'his', 'troop', 'enter', 'before', 'him', 'he', 'followed', 'them', 'when', 'the', 'door', 'shut', 'again', 'of', 'itself'], ['the', 'robbers', 'stayed', 'some', 'time', 'within', 'the', 'rock', 'during', 'which', 'ali', 'baba', 'fearful', 'of', 'being', 'caught', 'remained', 'in', 'the', 'tree'], ['at', 'last', 'the', 'door', 'opened', 'again', 'and', 'as', 'the', 'captain', 'went', 'in', 'last', 'so', 'he', 'came', 'out', 'first', 'and', 'stood', 'to', 'see', 'them', 'all', 'pass', 'by', 'him', 'when', 'ali', 'baba', 'heard', 'him', 'make', 'the', 'door', 'close', 'by', 'pronouncing', 'these', 'words', 'shut', 'sesame'], ['every', 'man', 'at', 'once', 'went', 'and', 'bridled', 'his', 'horse', 'fastened', 'his', 'wallet', 'and', 'mounted', 'again'], ['when', 'the', 'captain', 'saw', 'them', 'all', 'ready', 'he', 'put', 'himself', 'at', 'their', 'head', 'and', 'they', 'returned', 'the', 'way', 'they', 'had', 'come'], ['ali', 'baba', 'followed', 'them', 'with', 'his', 'eyes', 'as', 'far', 'as', 'he', 'could', 'see', 'them', 'and', 'afterward', 'stayed', 'a', 'considerable', 'time', 'before', 'he', 'descended'], ['remembering', 'the', 'words', 'the', 'captain', 'of', 'the', 'robbers', 'used', 'to', 'cause', 'the', 'door', 'to', 'open', 'and', 'shut', 'he', 'had', 'the', 'curiosity', 'to', 'try', 'if', 'his', 'pronouncing', 'them', 'would', 'have', 'the', 'same', 'effect'], ['accordingly', 'he', 'went', 'among', 'the', 'shrubs', 'and', 'perceiving', 'the', 'door', 'concealed', 'behind', 'them', 'stood', 'before', 'it', 'and', 'said', 'open', 'sesame'], ['the', 'door', 'instantly', 'flew', 'wide', 'open'], ['ali', 'baba', 'who', 'expected', 'a', 'dark', 'dismal', 'cavern', 'was', 'surprised', 'to', 'see', 'a', 'well', 'lighted', 'and', 'spacious', 'chamber', 'which', 'received', 'the', 'light', 'from', 'an', 'opening', 'at', 'the', 'top', 'of', 'the', 'rock', 'and', 'in', 'which', 'were', 'all', 'sorts', 'of', 'provisions', 'rich', 'bales', 'of', 'silk', 'stuff', 'brocade', 'and', 'valuable', 'carpeting', 'piled', 'upon', 'one', 'another', 'gold', 'and', 'silver', 'ingots', 'in', 'great', 'heaps', 'and', 'money', 'in', 'bags'], ['the', 'sight', 'of', 'all', 'these', 'riches', 'made', 'him', 'suppose', 'that', 'this', 'cave', 'must', 'have', 'been', 'occupied', 'for', 'ages', 'by', 'robbers', 'who', 'had', 'succeeded', 'one', 'another'], ['ali', 'baba', 'went', 'boldly', 'into', 'the', 'cave', 'and', 'collected', 'as', 'much', 'of', 'the', 'gold', 'coin', 'which', 'was', 'in', 'bags', 'as', 'he', 'thought', 'his', 'three', 'asses', 'could', 'carry'], ['when', 'he', 'had', 'loaded', 'them', 'with', 'the', 'bags', 'he', 'laid', 'wood', 'over', 'them', 'in', 'such', 'a', 'manner', 'that', 'they', 'could', 'not', 'be', 'seen'], ['when', 'he', 'had', 'passed', 'in', 'and', 'out', 'as', 'often', 'as', 'he', 'wished', 'he', 'stood', 'before', 'the', 'door', 'and', 'pronouncing', 'the', 'words', 'shut', 'sesame'], ['the', 'door', 'closed', 'of', 'itself'], ['he', 'then', 'made', 'the', 'best', 'of', 'his', 'way', 'to', 'town'], ['when', 'ali', 'baba', 'got', 'home', 'he', 'drove', 'his', 'asses', 'into', 'a', 'little', 'yard', 'shut', 'the', 'gates', 'very', 'carefully', 'threw', 'off', 'the', 'wood', 'that', 'covered', 'the', 'panniers', 'carried', 'the', 'bags', 'into', 'the', 'house', 'and', 'ranged', 'them', 'in', 'order', 'before', 'his', 'wife'], ['he', 'then', 'emptied', 'the', 'bags', 'which', 'raised', 'such', 'a', 'great', 'heap', 'of', 'gold', 'as', 'dazzled', 'his', 'wife', 's', 'eyes', 'and', 'then', 'he', 'told', 'her', 'the', 'whole', 'adventure', 'from', 'beginning', 'to', 'end', 'and', 'above', 'all', 'recommended', 'her', 'to', 'keep', 'it', 'secret'], ['the', 'wife', 'rejoiced', 'greatly', 'at', 'their', 'good', 'fortune', 'and', 'would', 'count', 'all', 'the', 'gold', 'piece', 'by', 'piece'], ['wife', 'replied', 'ali', 'baba', 'you', 'do', 'not', 'know', 'what', 'you', 'undertake', 'when', 'you', 'pretend', 'to', 'count', 'the', 'money', 'you', 'will', 'never', 'have', 'done'], ['i', 'will', 'dig', 'a', 'hole', 'and', 'bury', 'it'], ['there', 'is', 'no', 'time', 'to', 'be', 'lost'], ['you', 'are', 'in', 'the', 'right', 'husband', 'replied', 'she', 'but', 'let', 'us', 'know', 'as', 'nigh', 'as', 'possible', 'how', 'much', 'we', 'have'], ['i', 'will', 'borrow', 'a', 'small', 'measure', 'and', 'measure', 'it', 'while', 'you', 'dig', 'the', 'hole'], ['away', 'the', 'wife', 'ran', 'to', 'her', 'brother', 'in', 'law', 'cassim', 'who', 'lived', 'just', 'by', 'and', 'addressing', 'herself', 'to', 'his', 'wife', 'desired', 'her', 'to', 'lend', 'her', 'a', 'measure', 'for', 'a', 'little', 'while'], ['her', 'sister', 'in', 'law', 'asked', 'her', 'whether', 'she', 'would', 'have', 'a', 'great', 'or', 'a', 'small', 'one'], ['the', 'other', 'asked', 'for', 'a', 'small', 'one'], ['she', 'bade', 'her', 'stay', 'a', 'little', 'and', 'she', 'would', 'readily', 'fetch', 'one'], ['the', 'sister', 'in', 'law', 'did', 'so', 'but', 'as', 'she', 'knew', 'ali', 'baba', 's', 'poverty', 'she', 'was', 'curious', 'to', 'know', 'what', 'sort', 'of', 'grain', 'his', 'wife', 'wanted', 'to', 'measure', 'and', 'artfully', 'putting', 'some', 'suet', 'at', 'the', 'bottom', 'of', 'the', 'measure', 'brought', 'it', 'to', 'her', 'with', 'the', 'excuse', 'that', 'she', 'was', 'sorry', 'that', 'she', 'had', 'made', 'her', 'stay', 'so', 'long', 'but', 'that', 'she', 'could', 'not', 'find', 'it', 'sooner'], ['ali', 'baba', 's', 'wife', 'went', 'home', 'set', 'the', 'measure', 'upon', 'the', 'heap', 'of', 'gold', 'filled', 'it', 'and', 'emptied', 'it', 'often', 'upon', 'the', 'sofa', 'till', 'she', 'had', 'done', 'when', 'she', 'was', 'very', 'well', 'satisfied', 'to', 'find', 'the', 'number', 'of', 'measures', 'amounted', 'to', 'so', 'many', 'as', 'they', 'did', 'and', 'went', 'to', 'tell', 'her', 'husband', 'who', 'had', 'almost', 'finished', 'digging', 'the', 'hole'], ['while', 'ali', 'baba', 'was', 'burying', 'the', 'gold', 'his', 'wife', 'to', 'show', 'her', 'exactness', 'and', 'diligence', 'to', 'her', 'sister', 'in', 'law', 'carried', 'the', 'measure', 'back', 'again', 'but', 'without', 'taking', 'notice', 'that', 'a', 'piece', 'of', 'gold', 'had', 'stuck', 'to', 'the', 'bottom'], ['sister', 'said', 'she', 'giving', 'it', 'to', 'her', 'again', 'you', 'see', 'that', 'i', 'have', 'not', 'kept', 'your', 'measure', 'long'], ['i', 'am', 'obliged', 'to', 'you', 'for', 'it', 'and', 'return', 'it', 'with', 'thanks'], ['as', 'soon', 'as', 'ali', 'baba', 's', 'wife', 'was', 'gone', 'cassim', 's', 'wife', 'looked', 'at', 'the', 'bottom', 'of', 'the', 'measure', 'and', 'was', 'in', 'inexpressible', 'surprise', 'to', 'find', 'a', 'piece', 'of', 'gold', 'sticking', 'to', 'it'], ['envy', 'immediately', 'possessed', 'her', 'breast'], ['what'], ['said', 'she', 'has', 'ali', 'baba', 'gold', 'so', 'plentiful', 'as', 'to', 'measure', 'it'], ['whence', 'has', 'he', 'all', 'this', 'wealth'], ['cassim', 'her', 'husband', 'was', 'at', 'his', 'counting', 'house'], ['when', 'he', 'came', 'home', 'his', 'wife', 'said', 'to', 'him', 'cassim', 'i', 'know', 'you', 'think', 'yourself', 'rich', 'but', 'ali', 'baba', 'is', 'infinitely', 'richer', 'than', 'you'], ['he', 'does', 'not', 'count', 'his', 'money', 'but', 'measures', 'it'], ['cassim', 'desired', 'her', 'to', 'explain', 'the', 'riddle', 'which', 'she', 'did', 'by', 'telling', 'him', 'the', 'stratagem', 'she', 'had', 'used', 'to', 'make', 'the', 'discovery', 'and', 'showed', 'him', 'the', 'piece', 'of', 'money', 'which', 'was', 'so', 'old', 'that', 'they', 'could', 'not', 'tell', 'in', 'what', 'prince', 's', 'reign', 'it', 'was', 'coined']]\n"
     ]
    }
   ],
   "source": [
    "# Let's remove the all the punctuation\n",
    "wordsonly = []\n",
    "for sentence in lowercased:\n",
    "    words = []\n",
    "    for s in sentence:\n",
    "        # replace anything that's not a-z with the empty string\n",
    "        word = re.sub(r'[^a-z]', '', s)\n",
    "        if word != '': # As long as that didn't delete the whole word, add it to the list\n",
    "            words.append(word)\n",
    "    wordsonly.append(words)\n",
    "print(wordsonly[:100])"
   ]
  },
  {
   "cell_type": "code",
   "execution_count": 6,
   "metadata": {},
   "outputs": [
    {
     "name": "stdout",
     "output_type": "stream",
     "text": [
      "a: 2621\n",
      "abandon: 1\n",
      "abandoned: 3\n",
      "abashed: 1\n",
      "abate: 3\n",
      "abated: 5\n",
      "abating: 1\n",
      "abbot: 1\n",
      "abdalla: 12\n",
      "abel: 2\n",
      "abhor: 1\n",
      "abhorred: 1\n",
      "abhorrence: 1\n",
      "abide: 4\n",
      "ability: 4\n",
      "able: 50\n",
      "ablest: 1\n",
      "aboard: 3\n",
      "abode: 4\n",
      "abortive: 1\n",
      "abound: 2\n",
      "abounded: 1\n",
      "about: 262\n",
      "above: 54\n",
      "abraham: 5\n",
      "abreast: 1\n",
      "abroad: 11\n",
      "absence: 6\n",
      "absent: 7\n",
      "absolute: 1\n"
     ]
    }
   ],
   "source": [
    "# Now let's count the words! \n",
    "\n",
    "# We first build a dictionary with word types and their frequencies\n",
    "word_frequencies = {}\n",
    "# loop through the sentences\n",
    "for sentence in wordsonly:\n",
    "    # loop through the words of the current sentence\n",
    "    for string in sentence:\n",
    "        # add 1 to the count of that word \n",
    "        # (and if it's not already in the dictionary, first add it with count 0)\n",
    "        word_frequencies[string] = word_frequencies.get(string, 0) + 1\n",
    "\n",
    "# PRINTING\n",
    "# print the whole thing\n",
    "# print(word_frequencies)\n",
    "\n",
    "# print just 30 (the 30 first, alphabetically)\n",
    "word_types = sorted(word_frequencies.keys())\n",
    "for word in word_types[:30]:\n",
    "    # formatted printing: f\"blah blah {python code} blah blah\"\n",
    "    print(f\"{word}: {word_frequencies[word]}\")"
   ]
  },
  {
   "cell_type": "code",
   "execution_count": 7,
   "metadata": {},
   "outputs": [
    {
     "name": "stdout",
     "output_type": "stream",
     "text": [
      "These are the 10 most frequent words:  ['the', 'and', 'to', 'of', 'i', 'a', 'in', 'was', 'he', 'that']\n",
      "These are the 10 most infrequent words:  ['scanning', 'items', 'portions', 'header', 'trailer', 'reprinted', 'sales', 'hardware', 'product', 'ver']\n"
     ]
    }
   ],
   "source": [
    "# Let's look at some of the most frequent words.\n",
    "# We construct a list of words ordered from most frequent to most infrequent\n",
    "sorted_keys = sorted(word_frequencies, key = word_frequencies.get, reverse = True)\n",
    "print(\"These are the 10 most frequent words: \", sorted_keys[:10])\n",
    "print(\"These are the 10 most infrequent words: \", sorted_keys[-10:])"
   ]
  },
  {
   "cell_type": "code",
   "execution_count": 8,
   "metadata": {},
   "outputs": [
    {
     "name": "stdout",
     "output_type": "stream",
     "text": [
      "1363\n"
     ]
    }
   ],
   "source": [
    "# It is generally better to restrict models to words with a minimum frequency.\n",
    "# We define a minimum frequency threshold of 10 and filter the words:\n",
    "minfreq = 10\n",
    "target_freqs = dict([(word,freq) for word,freq in word_frequencies.items() if freq > minfreq])\n",
    "# Now target_freqs is a dictionary with all the words we are interested in (we call them targets), \n",
    "# and their frequencies.\n",
    "\n",
    "# It will be useful to have also the list of targets:\n",
    "targets = sorted(target_freqs.keys())\n",
    "# And the vocabulary size\n",
    "vocabulary_size = len(target_freqs)\n",
    "print(vocabulary_size)"
   ]
  },
  {
   "cell_type": "markdown",
   "metadata": {},
   "source": [
    "*Suggested Take-home exercise*: remove also the most frequent words (\"stopwords\")."
   ]
  },
  {
   "cell_type": "markdown",
   "metadata": {},
   "source": [
    "## Building the Distributional Semantic Model"
   ]
  },
  {
   "cell_type": "code",
   "execution_count": 9,
   "metadata": {},
   "outputs": [],
   "source": [
    "# Here we write the functions that we use to build the Distributional Semantic Model.\n",
    "\n",
    "# This function is used to build the co-occurrence matrix\n",
    "def calculate_cooccurrences(tokenized, target_words, window):\n",
    "    \"\"\"\n",
    "    This is a \"docstring\", a comment explaining how a function works.\n",
    "    Given a list of tokenised sentences, a vocabulary size, and a window size,\n",
    "        builds a co-occurence matrix.\n",
    "    @param tokenized: list of list of strings: the data.\n",
    "    @param target_words: sorted list of word types in the data we're looking for.\n",
    "    @window: int: how far before and after the word to look for neighbouring words. \n",
    "                    e.g. 2 means the two words before and the two words after.\n",
    "    @return: a numpy matrix of dim len(targets) x len(targets). \n",
    "            Each row/column refers to a word, in the same order as target_words, \n",
    "            and the entries are their co-occurence frequencies.\n",
    "    \"\"\"\n",
    "    vocabulary_size = len(target_words)\n",
    "    # Word to index dictionary\n",
    "    word2index = {w: i for i, w in enumerate(target_words)}\n",
    "    \n",
    "    # initialise the matrix with 0's\n",
    "    matrix = np.zeros([vocabulary_size, vocabulary_size]) \n",
    "    # loop through the sentences\n",
    "    for sentence in tokenized:\n",
    "        # loop through the words, getting their indices in the sentence from enumerate\n",
    "        for position, word in enumerate(sentence):   \n",
    "            # for every word within the window\n",
    "            for j in range(max(position - window, 0), min(position + window + 1, len(sentence))):\n",
    "                context=sentence[j]  # the current context word\n",
    "                # skip the word itself and any words not in target_words\n",
    "                if j!=position and word in targets and context in target_words: \n",
    "                    # increment the relevant matrix cell by 1\n",
    "                    matrix[word2index[word]][word2index[context]]+=1\n",
    "    # this makes the function, when applied to its arguments, \"equal to\" the matrix we just built,\n",
    "    # and the word2index dict\n",
    "    return matrix, word2index\n",
    "\n",
    "\n",
    "def get_cooccurrence(word1, word2, counts, word2index):\n",
    "    \"\"\"\n",
    "    Returns the co-occurrence counts between two words,\n",
    "        given a co-occurrence matrix and a word to index dictionary.\n",
    "    \"\"\"\n",
    "    try:\n",
    "        w1_index = word2index[word1]\n",
    "    except KeyError:\n",
    "        print(f\"{word1} is not in the target vocabulary\")\n",
    "    try:\n",
    "        return counts[w1_index][word2index[word2]]\n",
    "    except KeyError:\n",
    "        print(f\"{word2} is not in the target vocabulary\")\n",
    "\n"
   ]
  },
  {
   "cell_type": "code",
   "execution_count": 10,
   "metadata": {},
   "outputs": [],
   "source": [
    "# We now compute the co-occurrences in our tokenized text and store them for later use\n",
    "# Warning: this can be slow for a large data file.\n",
    "count_matrix, w2i = calculate_cooccurrences(wordsonly, targets, 2)"
   ]
  },
  {
   "cell_type": "code",
   "execution_count": 11,
   "metadata": {},
   "outputs": [
    {
     "name": "stdout",
     "output_type": "stream",
     "text": [
      "'horse' co-occurs with 'house' 0.0 times\n",
      "'next' co-occurs with 'morning' 26.0 times\n",
      "'the' co-occurs with 'and' 1354.0 times\n"
     ]
    }
   ],
   "source": [
    "# Let's have a look at some co-occurrences:\n",
    "\n",
    "word_pairs = [(\"horse\", \"house\"), (\"next\", \"morning\"), (\"the\", \"and\")]\n",
    "\n",
    "for w1, w2 in word_pairs:\n",
    "    print(f\"'{w1}' co-occurs with '{w2}' {get_cooccurrence(w1, w2, count_matrix, w2i)} times\")\n"
   ]
  },
  {
   "cell_type": "code",
   "execution_count": 12,
   "metadata": {},
   "outputs": [
    {
     "name": "stdout",
     "output_type": "stream",
     "text": [
      "True\n"
     ]
    }
   ],
   "source": [
    "# Exercise: what do you think this will print?\n",
    "print(get_cooccurrence(\"horse\", \"house\", count_matrix, w2i) == get_cooccurrence(\"house\", \"horse\", count_matrix, w2i))"
   ]
  },
  {
   "cell_type": "markdown",
   "metadata": {},
   "source": [
    "Here we can apply any transformation to this matrix of counts (e.g. Pointwise Mutual Information). We leave this as an exercise!"
   ]
  },
  {
   "cell_type": "markdown",
   "metadata": {},
   "source": [
    "## Distances (semantic similarity)"
   ]
  },
  {
   "cell_type": "code",
   "execution_count": null,
   "metadata": {},
   "outputs": [],
   "source": [
    "# We can compute a matrix with the cosine distance between every word\n",
    "# using a built-in fuction from sklearn.metrics.pairwise:\n",
    "similarities = cosine_similarity(count_matrix)\n",
    "# print(similarities)\n"
   ]
  },
  {
   "cell_type": "code",
   "execution_count": 13,
   "metadata": {},
   "outputs": [],
   "source": [
    "def get_similarities(word1, word2, similarities, word2index):\n",
    "    \"\"\"\n",
    "    Compute the cosine similarity between word1 and word2 from pre-computed similarity matrix.\n",
    "    @param word1: string.\n",
    "    @param word2: string.\n",
    "    @param similarities: numpy matrix of pre-computed cosine similarities between words.\n",
    "    @word2index: dict from string to int, to find out which row and column belongs to which word.\n",
    "    @return float: the cosine similarity, or a string if one of the words isn't in the dict.\n",
    "    \"\"\"\n",
    "    try:\n",
    "        w1_index = word2index[word1]\n",
    "    except KeyError:\n",
    "        return f\"'{word1}' is not in the target vocabulary\"\n",
    "    try:\n",
    "        return similarities[w1_index][word2index[word2]]\n",
    "    except KeyError:\n",
    "        return f\"'{word2}' is not in the target vocabulary\"\n"
   ]
  },
  {
   "cell_type": "code",
   "execution_count": 14,
   "metadata": {},
   "outputs": [
    {
     "name": "stdout",
     "output_type": "stream",
     "text": [
      "\n",
      "The cosine similarity of 'eat' and 'drink' is \t0.7851863215093005\n",
      "Freq of 'eat': 36\n",
      "Freq of 'drink': 18\n",
      "\n",
      "The cosine similarity of 'lamp' and 'door' is \t0.8969077260497536\n",
      "Freq of 'lamp': 65\n",
      "Freq of 'door': 101\n",
      "\n",
      "The cosine similarity of 'lamp' and 'drink' is \t0.33051021754269977\n",
      "Freq of 'lamp': 65\n",
      "Freq of 'drink': 18\n",
      "\n",
      "The cosine similarity of 'eat' and 'eats' is \t'eats' is not in the target vocabulary\n",
      "Freq of 'eat': 36\n",
      "Freq of 'eats': 1\n",
      "\n",
      "The cosine similarity of 'fell' and 'fall' is \t0.6901739457542575\n",
      "Freq of 'fell': 80\n",
      "Freq of 'fall': 36\n"
     ]
    }
   ],
   "source": [
    "word_pairs = [(\"eat\", \"drink\"), (\"lamp\",\"door\"), (\"lamp\",\"drink\"), (\"eat\", \"eats\"), (\"fell\", \"fall\")]\n",
    "\n",
    "#Let's look at the similarities between these words\n",
    "\n",
    "for w1, w2 in word_pairs:\n",
    "    print(f\"\\nThe cosine similarity of '{w1}' and '{w2}' is \\t{get_similarities(w1, w2, similarities, w2i)}\")\n",
    "    print(f\"Freq of '{w1}': {word_frequencies.get(w1, 0)}\")\n",
    "    print(f\"Freq of '{w2}': {word_frequencies.get(w2, 0)}\")    \n",
    "\n",
    "# Try other examples! You can add them to/replace them in word_pairs"
   ]
  },
  {
   "cell_type": "markdown",
   "metadata": {},
   "source": [
    "Now that you know how to compute the similarities, you can do any type of analyses.\n",
    "For example, correlate word similarities predicted by this model with human similarity judgements,  find the closest neighbours to one word, compare similarities between models of books from different periods, find out if children learn similar words earlier, etc. "
   ]
  },
  {
   "cell_type": "markdown",
   "metadata": {},
   "source": [
    "## Exercise\n",
    "The file thomas.txt contains child-directed speech from the Thomas corpus in CHILDES.\n",
    "\n",
    "Re-use the previous code to build a Distributional Semantic Model for this data. The functions you should be able to just use, but other code you'll probably want to copy, paste, and edit below.\n"
   ]
  },
  {
   "cell_type": "code",
   "execution_count": null,
   "metadata": {},
   "outputs": [],
   "source": []
  }
 ],
 "metadata": {
  "kernelspec": {
   "display_name": "Python 3 (ipykernel)",
   "language": "python",
   "name": "python3"
  },
  "language_info": {
   "codemirror_mode": {
    "name": "ipython",
    "version": 3
   },
   "file_extension": ".py",
   "mimetype": "text/x-python",
   "name": "python",
   "nbconvert_exporter": "python",
   "pygments_lexer": "ipython3",
   "version": "3.10.9"
  }
 },
 "nbformat": 4,
 "nbformat_minor": 2
}
